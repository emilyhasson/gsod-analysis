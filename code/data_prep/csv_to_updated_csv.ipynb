{
  "nbformat": 4,
  "nbformat_minor": 0,
  "metadata": {
    "colab": {
      "name": "csv_to_updated_csv.ipynb",
      "provenance": [],
      "collapsed_sections": []
    },
    "kernelspec": {
      "name": "python3",
      "display_name": "Python 3"
    },
    "language_info": {
      "name": "python"
    }
  },
  "cells": [
    {
      "cell_type": "code",
      "execution_count": null,
      "metadata": {
        "id": "RiN-Xb5rM3d9"
      },
      "outputs": [],
      "source": [
        "# !pip install pycountry\n",
        "\n",
        "import os\n",
        "import shutil\n",
        "from zipfile import ZipFile\n",
        "\n",
        "import pandas as pd\n",
        "import pycountry"
      ]
    },
    {
      "cell_type": "code",
      "source": [
        "def merge_data(year, year_data, station_df, country_df):\n",
        "\n",
        "  print(f\"Working on {year} -> \", end='')\n",
        "  \n",
        "  # unlawful merger if not performed\n",
        "  year_data['station_num'] = year_data['station_num'].astype('str')\n",
        "\n",
        "  # gather station information per merger\n",
        "  merged_df = pd.merge(\n",
        "    year_data,\n",
        "    station_df,\n",
        "    right_on='USAF',\n",
        "    left_on='station_num'\n",
        "  )[['station_num', 'temp_ft', 'dewpt_ft', 'slp_mb', 'visib_mi', 'wind_knt',\n",
        "        'maxwind_knt', 'max_gust_knt', 'year', 'month', 'day', 'fog', 'rain',\n",
        "        'snow', 'hail', 'thunder', 'tornado', 'precip_in', 'precip_flag',\n",
        "        'max_temp_frnht', 'min_temp_frnht',\n",
        "        'CTRY', 'ST', 'LAT', 'LON', 'ELEV(M)']]\n",
        "  merged_df.columns = merged_df.columns.str.lower()\n",
        "\n",
        "  # merge again to gather name of country\n",
        "  fin_df = pd.merge(\n",
        "    merged_df,\n",
        "    country_df,\n",
        "    left_on='ctry',\n",
        "    right_on='FIPS'\n",
        "  ).drop(columns=['FIPS', 'ID'])\n",
        "  fin_df.columns = fin_df.columns.str.lower()\n",
        "\n",
        "  # writing since Colab doesn't like RAM\n",
        "  fin_df.to_csv(f'{year}weatherdata_updated.csv', index=False)\n",
        "  shutil.move(\n",
        "    f\"./{year}weatherdata_updated.csv\",\n",
        "    f\"./drive/MyDrive/STAT 480/Data/{year}weatherdata_updated.csv\")\n",
        "\n",
        "  print(f\"finished @ ./drive/MyDrive/STAT 480/Data/{year}weatherdata_updated.csv\")\n"
      ],
      "metadata": {
        "id": "Zr52RtcWR4VP"
      },
      "execution_count": null,
      "outputs": []
    },
    {
      "cell_type": "code",
      "source": [
        "def extract_csv_from_zip(start_year, end_year):\n",
        "  \n",
        "  station_df = pd.read_fwf('./drive/MyDrive/STAT 480/isd-history.txt', skiprows=range(20))      # update location to station identification file\n",
        "  country_df = pd.read_fwf('./drive/MyDrive/STAT 480/country-list.txt')                         # update location to country list file\n",
        "  \n",
        "  for year in range(start_year, end_year + 1):\n",
        "    \n",
        "    if f'{year}_dir.zip' in os.listdir('./drive/MyDrive/STAT 480/Zip Files/'):\n",
        "      with ZipFile(f'./drive/MyDrive/STAT 480/Zip Files/{year}_dir.zip', 'r') as zip:\n",
        "        csv_file_name = list(filter(lambda x: not x.startswith('_') and x.endswith('.csv'), zip.namelist()))[0]\n",
        "        df = pd.read_csv(zip.extract(csv_file_name)).drop(columns='Unnamed: 0')\n",
        "      merge_data(year, df, station_df, country_df)\n",
        "    \n",
        "    elif f'{year}weatherdata.csv' in os.listdir('./drive/MyDrive/STAT 480/Zip Files/'):\n",
        "      merge_data(year, pd.read_csv(f'./drive/MyDrive/STAT 480/Zip Files/{year}weatherdata.csv'), station_df, country_df)\n",
        "    \n",
        "    else:\n",
        "      print(f'{year} not in selected range')\n"
      ],
      "metadata": {
        "id": "nHfvCoIkNKLX"
      },
      "execution_count": null,
      "outputs": []
    },
    {
      "cell_type": "code",
      "source": [
        "extract_csv_from_zip(2000, 2019)"
      ],
      "metadata": {
        "colab": {
          "base_uri": "https://localhost:8080/"
        },
        "id": "2_4dhd1jVCum",
        "outputId": "eb57d3cc-8212-4e71-f01c-6302792db970"
      },
      "execution_count": null,
      "outputs": [
        {
          "output_type": "stream",
          "name": "stdout",
          "text": [
            "Working on 2000 -> finished @ ./drive/MyDrive/STAT 480/Data/2000weatherdata_updated.csv\n",
            "Working on 2001 -> finished @ ./drive/MyDrive/STAT 480/Data/2001weatherdata_updated.csv\n",
            "Working on 2002 -> finished @ ./drive/MyDrive/STAT 480/Data/2002weatherdata_updated.csv\n",
            "Working on 2003 -> finished @ ./drive/MyDrive/STAT 480/Data/2003weatherdata_updated.csv\n",
            "Working on 2004 -> finished @ ./drive/MyDrive/STAT 480/Data/2004weatherdata_updated.csv\n",
            "Working on 2005 -> finished @ ./drive/MyDrive/STAT 480/Data/2005weatherdata_updated.csv\n",
            "Working on 2006 -> finished @ ./drive/MyDrive/STAT 480/Data/2006weatherdata_updated.csv\n",
            "2007 not in selected range\n",
            "Working on 2008 -> finished @ ./drive/MyDrive/STAT 480/Data/2008weatherdata_updated.csv\n",
            "Working on 2009 -> finished @ ./drive/MyDrive/STAT 480/Data/2009weatherdata_updated.csv\n",
            "Working on 2010 -> finished @ ./drive/MyDrive/STAT 480/Data/2010weatherdata_updated.csv\n",
            "Working on 2011 -> finished @ ./drive/MyDrive/STAT 480/Data/2011weatherdata_updated.csv\n",
            "Working on 2012 -> finished @ ./drive/MyDrive/STAT 480/Data/2012weatherdata_updated.csv\n",
            "Working on 2013 -> finished @ ./drive/MyDrive/STAT 480/Data/2013weatherdata_updated.csv\n",
            "Working on 2014 -> finished @ ./drive/MyDrive/STAT 480/Data/2014weatherdata_updated.csv\n",
            "Working on 2015 -> finished @ ./drive/MyDrive/STAT 480/Data/2015weatherdata_updated.csv\n",
            "Working on 2016 -> finished @ ./drive/MyDrive/STAT 480/Data/2016weatherdata_updated.csv\n",
            "Working on 2017 -> finished @ ./drive/MyDrive/STAT 480/Data/2017weatherdata_updated.csv\n",
            "Working on 2018 -> finished @ ./drive/MyDrive/STAT 480/Data/2018weatherdata_updated.csv\n",
            "Working on 2019 -> finished @ ./drive/MyDrive/STAT 480/Data/2019weatherdata_updated.csv\n"
          ]
        }
      ]
    }
  ]
}
