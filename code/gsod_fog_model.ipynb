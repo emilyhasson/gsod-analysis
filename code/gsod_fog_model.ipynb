{
  "nbformat": 4,
  "nbformat_minor": 0,
  "metadata": {
    "colab": {
      "name": "gsod-fog-model.ipynb",
      "provenance": [],
      "authorship_tag": "ABX9TyMQOHbechA6l9r22kpfW8+T",
      "include_colab_link": true
    },
    "kernelspec": {
      "name": "python3",
      "display_name": "Python 3"
    },
    "language_info": {
      "name": "python"
    }
  },
  "cells": [
    {
      "cell_type": "markdown",
      "metadata": {
        "id": "view-in-github",
        "colab_type": "text"
      },
      "source": [
        "<a href=\"https://colab.research.google.com/github/emilyhasson/gsod-analysis/blob/main/code/gsod_fog_model.ipynb\" target=\"_parent\"><img src=\"https://colab.research.google.com/assets/colab-badge.svg\" alt=\"Open In Colab\"/></a>"
      ]
    },
    {
      "cell_type": "markdown",
      "source": [
        "# Setup"
      ],
      "metadata": {
        "id": "ELxbiscdSXSv"
      }
    },
    {
      "cell_type": "code",
      "execution_count": 1,
      "metadata": {
        "colab": {
          "base_uri": "https://localhost:8080/"
        },
        "id": "hBelYr0LSCFf",
        "outputId": "37282a27-7609-4ff7-e427-610f21450fe4"
      },
      "outputs": [
        {
          "output_type": "stream",
          "name": "stdout",
          "text": [
            "Selecting previously unselected package openjdk-8-jre-headless:amd64.\r\n",
            "(Reading database ... \r(Reading database ... 5%\r(Reading database ... 10%\r(Reading database ... 15%\r(Reading database ... 20%\r(Reading database ... 25%\r(Reading database ... 30%\r(Reading database ... 35%\r(Reading database ... 40%\r(Reading database ... 45%\r(Reading database ... 50%\r(Reading database ... 55%\r(Reading database ... 60%\r(Reading database ... 65%\r(Reading database ... 70%\r(Reading database ... 75%\r(Reading database ... 80%\r(Reading database ... 85%\r(Reading database ... 90%\r(Reading database ... 95%\r(Reading database ... 100%\r(Reading database ... 155203 files and directories currently installed.)\r\n",
            "Preparing to unpack .../openjdk-8-jre-headless_8u312-b07-0ubuntu1~18.04_amd64.deb ...\r\n",
            "Unpacking openjdk-8-jre-headless:amd64 (8u312-b07-0ubuntu1~18.04) ...\r\n",
            "Selecting previously unselected package openjdk-8-jdk-headless:amd64.\r\n",
            "Preparing to unpack .../openjdk-8-jdk-headless_8u312-b07-0ubuntu1~18.04_amd64.deb ...\r\n",
            "Unpacking openjdk-8-jdk-headless:amd64 (8u312-b07-0ubuntu1~18.04) ...\r\n",
            "Setting up openjdk-8-jre-headless:amd64 (8u312-b07-0ubuntu1~18.04) ...\r\n",
            "update-alternatives: using /usr/lib/jvm/java-8-openjdk-amd64/jre/bin/orbd to provide /usr/bin/orbd (orbd) in auto mode\r\n",
            "update-alternatives: using /usr/lib/jvm/java-8-openjdk-amd64/jre/bin/servertool to provide /usr/bin/servertool (servertool) in auto mode\r\n",
            "update-alternatives: using /usr/lib/jvm/java-8-openjdk-amd64/jre/bin/tnameserv to provide /usr/bin/tnameserv (tnameserv) in auto mode\r\n",
            "Setting up openjdk-8-jdk-headless:amd64 (8u312-b07-0ubuntu1~18.04) ...\r\n",
            "update-alternatives: using /usr/lib/jvm/java-8-openjdk-amd64/bin/idlj to provide /usr/bin/idlj (idlj) in auto mode\r\n",
            "update-alternatives: using /usr/lib/jvm/java-8-openjdk-amd64/bin/wsimport to provide /usr/bin/wsimport (wsimport) in auto mode\r\n",
            "update-alternatives: using /usr/lib/jvm/java-8-openjdk-amd64/bin/jsadebugd to provide /usr/bin/jsadebugd (jsadebugd) in auto mode\r\n",
            "update-alternatives: using /usr/lib/jvm/java-8-openjdk-amd64/bin/native2ascii to provide /usr/bin/native2ascii (native2ascii) in auto mode\r\n",
            "update-alternatives: using /usr/lib/jvm/java-8-openjdk-amd64/bin/javah to provide /usr/bin/javah (javah) in auto mode\r\n",
            "update-alternatives: using /usr/lib/jvm/java-8-openjdk-amd64/bin/hsdb to provide /usr/bin/hsdb (hsdb) in auto mode\r\n",
            "update-alternatives: using /usr/lib/jvm/java-8-openjdk-amd64/bin/clhsdb to provide /usr/bin/clhsdb (clhsdb) in auto mode\r\n",
            "update-alternatives: using /usr/lib/jvm/java-8-openjdk-amd64/bin/xjc to provide /usr/bin/xjc (xjc) in auto mode\r\n",
            "update-alternatives: using /usr/lib/jvm/java-8-openjdk-amd64/bin/schemagen to provide /usr/bin/schemagen (schemagen) in auto mode\r\n",
            "update-alternatives: using /usr/lib/jvm/java-8-openjdk-amd64/bin/extcheck to provide /usr/bin/extcheck (extcheck) in auto mode\r\n",
            "update-alternatives: using /usr/lib/jvm/java-8-openjdk-amd64/bin/jhat to provide /usr/bin/jhat (jhat) in auto mode\r\n",
            "update-alternatives: using /usr/lib/jvm/java-8-openjdk-amd64/bin/wsgen to provide /usr/bin/wsgen (wsgen) in auto mode\r\n"
          ]
        }
      ],
      "source": [
        "#@title  <-- Run Me: (Hidden) Installing Spark\n",
        "%%bash \n",
        "\n",
        "## Setup Spark on Colab\n",
        "pip install -q pyspark\n",
        "apt-get -qq install -y openjdk-8-jdk-headless\n",
        "\n",
        "## Setup port-forwarding\n",
        "\n",
        "# Download ngrok\n",
        "wget -q https://bin.equinox.io/c/4VmDzA7iaHb/ngrok-stable-linux-amd64.zip\n",
        "# Unload ngrok\n",
        "unzip -q ngrok-stable-linux-amd64.zip"
      ]
    },
    {
      "cell_type": "code",
      "source": [
        "#@title  <-- Run Me: (Hidden) Environment Variable Setup\n",
        "import os\n",
        "os.environ[\"JAVA_HOME\"] = \"/usr/lib/jvm/java-8-openjdk-amd64\""
      ],
      "metadata": {
        "id": "JLSedg7_SJz2"
      },
      "execution_count": 2,
      "outputs": []
    },
    {
      "cell_type": "code",
      "source": [
        "import pyspark \n",
        "from pyspark.sql import *\n",
        "from pyspark.sql.functions import *\n",
        "from pyspark import SparkContext, SparkConf\n",
        "\n",
        "# Set configuration scope to be local and use port 4050\n",
        "config_scope = SparkConf().set(\"spark.ui.port\", \"4050\")\n",
        "\n",
        "# Create the connection to a Spark cluster\n",
        "sc = pyspark.SparkContext(conf = config_scope)\n",
        "\n",
        "# Create a session to programmatically build Spark RDD, DataFrame and DataSet\n",
        "spark = SparkSession.builder.getOrCreate()"
      ],
      "metadata": {
        "id": "CeqdfVFESM0w"
      },
      "execution_count": 3,
      "outputs": []
    },
    {
      "cell_type": "markdown",
      "source": [
        "# Load Data from GitHub"
      ],
      "metadata": {
        "id": "YOgN0E0lSRgc"
      }
    },
    {
      "cell_type": "code",
      "source": [
        "!wget \"https://raw.githubusercontent.com/emilyhasson/gsod-analysis/main/data/2000_dir/2000weatherdata.csv\"\n",
        "df_2000 = spark.read.csv('2000weatherdata.csv', inferSchema = True, header = True)\n",
        "dfs = []\n",
        "dfs.append(df_2000)\n",
        "\n",
        "!wget \"https://raw.githubusercontent.com/emilyhasson/gsod-analysis/main/data/2001_dir/2001weatherdata.csv\"\n",
        "df_2001 = spark.read.csv('2001weatherdata.csv', inferSchema = True, header = True)\n",
        "dfs.append(df_2001)\n",
        "\n",
        "!wget \"https://raw.githubusercontent.com/emilyhasson/gsod-analysis/main/data/2002_dir/2002weatherdata.csv\"\n",
        "df_2002 = spark.read.csv('2002weatherdata.csv', inferSchema = True, header = True)\n",
        "dfs.append(df_2002)\n",
        "\n",
        "!wget \"https://raw.githubusercontent.com/emilyhasson/gsod-analysis/main/data/2003_dir/2003weatherdata.csv\"\n",
        "df = spark.read.csv('2003weatherdata.csv', inferSchema = True, header = True)\n",
        "dfs.append(df)\n",
        "\n",
        "!wget \"https://raw.githubusercontent.com/emilyhasson/gsod-analysis/main/data/2004_dir/2004weatherdata.csv\"\n",
        "df = spark.read.csv('2004weatherdata.csv', inferSchema = True, header = True)\n",
        "dfs.append(df)\n",
        "\n",
        "!wget \"https://raw.githubusercontent.com/emilyhasson/gsod-analysis/main/data/2005_dir/2005weatherdata.csv\"\n",
        "df = spark.read.csv('2005weatherdata.csv', inferSchema = True, header = True)\n",
        "dfs.append(df)\n",
        "\n",
        "!wget \"https://raw.githubusercontent.com/emilyhasson/gsod-analysis/main/data/2006_dir/2006weatherdata.csv\"\n",
        "df = spark.read.csv('2006weatherdata.csv', inferSchema = True, header = True)\n",
        "dfs.append(df)\n",
        "\n",
        "!wget \"https://raw.githubusercontent.com/emilyhasson/gsod-analysis/main/data/2007_dir/2007weatherdata.csv\"\n",
        "df = spark.read.csv('2007weatherdata.csv', inferSchema = True, header = True)\n",
        "dfs.append(df)\n",
        "\n",
        "!wget \"https://raw.githubusercontent.com/emilyhasson/gsod-analysis/main/data/2008_dir/2008weatherdata.csv\"\n",
        "df = spark.read.csv('2008weatherdata.csv', inferSchema = True, header = True)\n",
        "dfs.append(df)"
      ],
      "metadata": {
        "colab": {
          "base_uri": "https://localhost:8080/"
        },
        "id": "lzZRpQaESV86",
        "outputId": "288d0c93-8ee3-41f9-a90f-9eead1becfaf"
      },
      "execution_count": 4,
      "outputs": [
        {
          "output_type": "stream",
          "name": "stdout",
          "text": [
            "--2022-05-10 00:06:44--  https://raw.githubusercontent.com/emilyhasson/gsod-analysis/main/data/2000_dir/2000weatherdata.csv\n",
            "Resolving raw.githubusercontent.com (raw.githubusercontent.com)... 185.199.108.133, 185.199.109.133, 185.199.110.133, ...\n",
            "Connecting to raw.githubusercontent.com (raw.githubusercontent.com)|185.199.108.133|:443... connected.\n",
            "HTTP request sent, awaiting response... 200 OK\n",
            "Length: 11045114 (11M) [text/plain]\n",
            "Saving to: ‘2000weatherdata.csv’\n",
            "\n",
            "2000weatherdata.csv 100%[===================>]  10.53M  --.-KB/s    in 0.08s   \n",
            "\n",
            "2022-05-10 00:06:44 (137 MB/s) - ‘2000weatherdata.csv’ saved [11045114/11045114]\n",
            "\n",
            "--2022-05-10 00:06:54--  https://raw.githubusercontent.com/emilyhasson/gsod-analysis/main/data/2001_dir/2001weatherdata.csv\n",
            "Resolving raw.githubusercontent.com (raw.githubusercontent.com)... 185.199.108.133, 185.199.109.133, 185.199.110.133, ...\n",
            "Connecting to raw.githubusercontent.com (raw.githubusercontent.com)|185.199.108.133|:443... connected.\n",
            "HTTP request sent, awaiting response... 200 OK\n",
            "Length: 11036978 (11M) [text/plain]\n",
            "Saving to: ‘2001weatherdata.csv’\n",
            "\n",
            "2001weatherdata.csv 100%[===================>]  10.53M  --.-KB/s    in 0.07s   \n",
            "\n",
            "2022-05-10 00:06:55 (149 MB/s) - ‘2001weatherdata.csv’ saved [11036978/11036978]\n",
            "\n",
            "--2022-05-10 00:06:56--  https://raw.githubusercontent.com/emilyhasson/gsod-analysis/main/data/2002_dir/2002weatherdata.csv\n",
            "Resolving raw.githubusercontent.com (raw.githubusercontent.com)... 185.199.108.133, 185.199.109.133, 185.199.110.133, ...\n",
            "Connecting to raw.githubusercontent.com (raw.githubusercontent.com)|185.199.108.133|:443... connected.\n",
            "HTTP request sent, awaiting response... 200 OK\n",
            "Length: 11703818 (11M) [text/plain]\n",
            "Saving to: ‘2002weatherdata.csv’\n",
            "\n",
            "2002weatherdata.csv 100%[===================>]  11.16M  --.-KB/s    in 0.07s   \n",
            "\n",
            "2022-05-10 00:06:57 (158 MB/s) - ‘2002weatherdata.csv’ saved [11703818/11703818]\n",
            "\n",
            "--2022-05-10 00:06:58--  https://raw.githubusercontent.com/emilyhasson/gsod-analysis/main/data/2003_dir/2003weatherdata.csv\n",
            "Resolving raw.githubusercontent.com (raw.githubusercontent.com)... 185.199.108.133, 185.199.110.133, 185.199.109.133, ...\n",
            "Connecting to raw.githubusercontent.com (raw.githubusercontent.com)|185.199.108.133|:443... connected.\n",
            "HTTP request sent, awaiting response... 200 OK\n",
            "Length: 10766661 (10M) [text/plain]\n",
            "Saving to: ‘2003weatherdata.csv’\n",
            "\n",
            "2003weatherdata.csv 100%[===================>]  10.27M  --.-KB/s    in 0.08s   \n",
            "\n",
            "2022-05-10 00:06:59 (134 MB/s) - ‘2003weatherdata.csv’ saved [10766661/10766661]\n",
            "\n",
            "--2022-05-10 00:07:00--  https://raw.githubusercontent.com/emilyhasson/gsod-analysis/main/data/2004_dir/2004weatherdata.csv\n",
            "Resolving raw.githubusercontent.com (raw.githubusercontent.com)... 185.199.108.133, 185.199.109.133, 185.199.110.133, ...\n",
            "Connecting to raw.githubusercontent.com (raw.githubusercontent.com)|185.199.108.133|:443... connected.\n",
            "HTTP request sent, awaiting response... 200 OK\n",
            "Length: 11108905 (11M) [text/plain]\n",
            "Saving to: ‘2004weatherdata.csv’\n",
            "\n",
            "2004weatherdata.csv 100%[===================>]  10.59M  --.-KB/s    in 0.08s   \n",
            "\n",
            "2022-05-10 00:07:01 (132 MB/s) - ‘2004weatherdata.csv’ saved [11108905/11108905]\n",
            "\n",
            "--2022-05-10 00:07:02--  https://raw.githubusercontent.com/emilyhasson/gsod-analysis/main/data/2005_dir/2005weatherdata.csv\n",
            "Resolving raw.githubusercontent.com (raw.githubusercontent.com)... 185.199.108.133, 185.199.109.133, 185.199.110.133, ...\n",
            "Connecting to raw.githubusercontent.com (raw.githubusercontent.com)|185.199.108.133|:443... connected.\n",
            "HTTP request sent, awaiting response... 200 OK\n",
            "Length: 10533577 (10M) [text/plain]\n",
            "Saving to: ‘2005weatherdata.csv’\n",
            "\n",
            "2005weatherdata.csv 100%[===================>]  10.04M  --.-KB/s    in 0.07s   \n",
            "\n",
            "2022-05-10 00:07:03 (149 MB/s) - ‘2005weatherdata.csv’ saved [10533577/10533577]\n",
            "\n",
            "--2022-05-10 00:07:04--  https://raw.githubusercontent.com/emilyhasson/gsod-analysis/main/data/2006_dir/2006weatherdata.csv\n",
            "Resolving raw.githubusercontent.com (raw.githubusercontent.com)... 185.199.110.133, 185.199.111.133, 185.199.108.133, ...\n",
            "Connecting to raw.githubusercontent.com (raw.githubusercontent.com)|185.199.110.133|:443... connected.\n",
            "HTTP request sent, awaiting response... 200 OK\n",
            "Length: 12162445 (12M) [text/plain]\n",
            "Saving to: ‘2006weatherdata.csv’\n",
            "\n",
            "2006weatherdata.csv 100%[===================>]  11.60M  --.-KB/s    in 0.07s   \n",
            "\n",
            "2022-05-10 00:07:05 (161 MB/s) - ‘2006weatherdata.csv’ saved [12162445/12162445]\n",
            "\n",
            "--2022-05-10 00:07:06--  https://raw.githubusercontent.com/emilyhasson/gsod-analysis/main/data/2007_dir/2007weatherdata.csv\n",
            "Resolving raw.githubusercontent.com (raw.githubusercontent.com)... 185.199.110.133, 185.199.109.133, 185.199.108.133, ...\n",
            "Connecting to raw.githubusercontent.com (raw.githubusercontent.com)|185.199.110.133|:443... connected.\n",
            "HTTP request sent, awaiting response... 200 OK\n",
            "Length: 11588722 (11M) [text/plain]\n",
            "Saving to: ‘2007weatherdata.csv’\n",
            "\n",
            "2007weatherdata.csv 100%[===================>]  11.05M  --.-KB/s    in 0.09s   \n",
            "\n",
            "2022-05-10 00:07:07 (123 MB/s) - ‘2007weatherdata.csv’ saved [11588722/11588722]\n",
            "\n",
            "--2022-05-10 00:07:08--  https://raw.githubusercontent.com/emilyhasson/gsod-analysis/main/data/2008_dir/2008weatherdata.csv\n",
            "Resolving raw.githubusercontent.com (raw.githubusercontent.com)... 185.199.110.133, 185.199.109.133, 185.199.108.133, ...\n",
            "Connecting to raw.githubusercontent.com (raw.githubusercontent.com)|185.199.110.133|:443... connected.\n",
            "HTTP request sent, awaiting response... 200 OK\n",
            "Length: 10829909 (10M) [text/plain]\n",
            "Saving to: ‘2008weatherdata.csv’\n",
            "\n",
            "2008weatherdata.csv 100%[===================>]  10.33M  --.-KB/s    in 0.07s   \n",
            "\n",
            "2022-05-10 00:07:09 (154 MB/s) - ‘2008weatherdata.csv’ saved [10829909/10829909]\n",
            "\n"
          ]
        }
      ]
    },
    {
      "cell_type": "markdown",
      "source": [
        "Union all yearly dataframes"
      ],
      "metadata": {
        "id": "iG2L7cjVSrYi"
      }
    },
    {
      "cell_type": "code",
      "source": [
        "import functools\n",
        "def unionAll(dfs):\n",
        "    return functools.reduce(lambda df1, df2: df1.union(df2.select(df1.columns)), dfs)\n",
        "\n",
        "udf = unionAll(dfs)"
      ],
      "metadata": {
        "id": "cDGBWSoRSwPc"
      },
      "execution_count": 7,
      "outputs": []
    },
    {
      "cell_type": "markdown",
      "source": [
        "# Model Construction"
      ],
      "metadata": {
        "id": "4XXjrn8dTDrb"
      }
    },
    {
      "cell_type": "markdown",
      "source": [
        "Combine all predictor variables into a vectorized features column"
      ],
      "metadata": {
        "id": "4GIYDARFUAx7"
      }
    },
    {
      "cell_type": "code",
      "source": [
        "from pyspark.ml.feature import OneHotEncoder, StringIndexer, VectorAssembler,StandardScaler\n",
        "assembler = VectorAssembler(inputCols=[\"station_num\", \"year\", \"month\", \"day\", \"temp_ft\", \n",
        "                                            \"dewpt_ft\", \"slp_mb\", \"visib_mi\", \"wind_knt\", \"maxwind_knt\", \n",
        "                                            \"GUST\", \"rain\", \"snow\", \"hail\", \"thunder\", \"tornado\", \"max_temp_frnht\",  \n",
        "                                            \"min_temp_frnht\", \"precip_in\"],\n",
        "                            outputCol=\"features\")\n",
        "assembler_df=assembler.transform(udf.fillna(0))\n",
        "assembler_df.printSchema()"
      ],
      "metadata": {
        "colab": {
          "base_uri": "https://localhost:8080/"
        },
        "id": "qxKwNkN6T-Es",
        "outputId": "6df4254f-ea6a-40a0-bc64-683b0e12e247"
      },
      "execution_count": 11,
      "outputs": [
        {
          "output_type": "stream",
          "name": "stdout",
          "text": [
            "root\n",
            " |-- _c0: integer (nullable = true)\n",
            " |-- station_num: integer (nullable = true)\n",
            " |-- year: integer (nullable = true)\n",
            " |-- month: integer (nullable = true)\n",
            " |-- day: integer (nullable = true)\n",
            " |-- temp_ft: double (nullable = false)\n",
            " |-- dewpt_ft: double (nullable = false)\n",
            " |-- slp_mb: double (nullable = false)\n",
            " |-- visib_mi: double (nullable = false)\n",
            " |-- wind_knt: double (nullable = false)\n",
            " |-- maxwind_knt: double (nullable = false)\n",
            " |-- GUST: double (nullable = false)\n",
            " |-- fog: integer (nullable = true)\n",
            " |-- rain: integer (nullable = true)\n",
            " |-- snow: integer (nullable = true)\n",
            " |-- hail: integer (nullable = true)\n",
            " |-- thunder: integer (nullable = true)\n",
            " |-- tornado: integer (nullable = true)\n",
            " |-- max_temp_frnht: double (nullable = false)\n",
            " |-- min_temp_frnht: double (nullable = false)\n",
            " |-- precip_in: double (nullable = false)\n",
            " |-- precip_flag: string (nullable = true)\n",
            " |-- SNDP: double (nullable = false)\n",
            " |-- STP: double (nullable = false)\n",
            " |-- WBAN: integer (nullable = true)\n",
            " |-- features: vector (nullable = true)\n",
            "\n"
          ]
        }
      ]
    },
    {
      "cell_type": "markdown",
      "source": [
        "Next, split the data into training and testing sets (80% and 20%, respectively)"
      ],
      "metadata": {
        "id": "jaT8HvStUXgW"
      }
    },
    {
      "cell_type": "code",
      "source": [
        "train, test = assembler_df.randomSplit([0.8, 0.2], seed=666)\n",
        "print(\"Train count: \" + str(train.count()))\n",
        "print(\"Test count: \" + str(test.count()))\n",
        "train.groupby(\"Fog\").count().show() # checking that distribution of response is reasonably evenly split"
      ],
      "metadata": {
        "colab": {
          "base_uri": "https://localhost:8080/"
        },
        "id": "0Z9XciQ0Ue1x",
        "outputId": "be38fb3c-fa71-471f-cb46-b49ffdb421dc"
      },
      "execution_count": 12,
      "outputs": [
        {
          "output_type": "stream",
          "name": "stdout",
          "text": [
            "Train count: 946943\n",
            "Test count: 236195\n",
            "+---+------+\n",
            "|Fog| count|\n",
            "+---+------+\n",
            "|  1|417128|\n",
            "|  0|529815|\n",
            "+---+------+\n",
            "\n"
          ]
        }
      ]
    },
    {
      "cell_type": "markdown",
      "source": [
        "Train the model"
      ],
      "metadata": {
        "id": "aubd0-DWUx8y"
      }
    },
    {
      "cell_type": "code",
      "source": [
        "from pyspark.ml.classification import LogisticRegression\n",
        "lr = LogisticRegression(featuresCol = 'features', labelCol='fog', maxIter=5)\n",
        "lrModel = lr.fit(train)\n",
        "predictions = lrModel.transform(test).withColumnRenamed(\"fog\", \"label\")\n",
        "predictions.select('label', 'features',  'rawPrediction', 'prediction', 'probability').toPandas().head(5)"
      ],
      "metadata": {
        "colab": {
          "base_uri": "https://localhost:8080/",
          "height": 206
        },
        "id": "jojkCEnHU069",
        "outputId": "41346b52-2e46-49e9-99b6-38ab870cfbb3"
      },
      "execution_count": 13,
      "outputs": [
        {
          "output_type": "execute_result",
          "data": {
            "text/plain": [
              "   label                                           features  \\\n",
              "0      1  (38800.0, 2000.0, 1.0, 1.0, 48.3, 47.7, 1025.2...   \n",
              "1      0  (64324.0, 2000.0, 1.0, 2.0, 0.0, 0.0, 0.0, 4.3...   \n",
              "2      1  [64560.0, 2000.0, 1.0, 1.0, 40.8, 40.6, 1025.6...   \n",
              "3      0  (71400.0, 2000.0, 1.0, 1.0, 46.2, 45.6, 1027.2...   \n",
              "4      1  (72070.0, 2000.0, 1.0, 1.0, 51.4, 0.0, 1027.8,...   \n",
              "\n",
              "                                 rawPrediction  prediction  \\\n",
              "0    [0.4731902129507075, -0.4731902129507075]         0.0   \n",
              "1    [-0.2978054467200346, 0.2978054467200346]         1.0   \n",
              "2      [-4.929418155464096, 4.929418155464096]         1.0   \n",
              "3    [0.5935287119442654, -0.5935287119442654]         0.0   \n",
              "4  [0.39315701537826797, -0.39315701537826797]         0.0   \n",
              "\n",
              "                                  probability  \n",
              "0   [0.6161385585300159, 0.38386144146998413]  \n",
              "1   [0.42609404742019547, 0.5739059525798045]  \n",
              "2  [0.007178801381066684, 0.9928211986189334]  \n",
              "3   [0.6441743858404683, 0.35582561415953173]  \n",
              "4    [0.5970424549071369, 0.4029575450928631]  "
            ],
            "text/html": [
              "\n",
              "  <div id=\"df-1cd0636c-a97e-4cd2-bd30-033a964aa9e8\">\n",
              "    <div class=\"colab-df-container\">\n",
              "      <div>\n",
              "<style scoped>\n",
              "    .dataframe tbody tr th:only-of-type {\n",
              "        vertical-align: middle;\n",
              "    }\n",
              "\n",
              "    .dataframe tbody tr th {\n",
              "        vertical-align: top;\n",
              "    }\n",
              "\n",
              "    .dataframe thead th {\n",
              "        text-align: right;\n",
              "    }\n",
              "</style>\n",
              "<table border=\"1\" class=\"dataframe\">\n",
              "  <thead>\n",
              "    <tr style=\"text-align: right;\">\n",
              "      <th></th>\n",
              "      <th>label</th>\n",
              "      <th>features</th>\n",
              "      <th>rawPrediction</th>\n",
              "      <th>prediction</th>\n",
              "      <th>probability</th>\n",
              "    </tr>\n",
              "  </thead>\n",
              "  <tbody>\n",
              "    <tr>\n",
              "      <th>0</th>\n",
              "      <td>1</td>\n",
              "      <td>(38800.0, 2000.0, 1.0, 1.0, 48.3, 47.7, 1025.2...</td>\n",
              "      <td>[0.4731902129507075, -0.4731902129507075]</td>\n",
              "      <td>0.0</td>\n",
              "      <td>[0.6161385585300159, 0.38386144146998413]</td>\n",
              "    </tr>\n",
              "    <tr>\n",
              "      <th>1</th>\n",
              "      <td>0</td>\n",
              "      <td>(64324.0, 2000.0, 1.0, 2.0, 0.0, 0.0, 0.0, 4.3...</td>\n",
              "      <td>[-0.2978054467200346, 0.2978054467200346]</td>\n",
              "      <td>1.0</td>\n",
              "      <td>[0.42609404742019547, 0.5739059525798045]</td>\n",
              "    </tr>\n",
              "    <tr>\n",
              "      <th>2</th>\n",
              "      <td>1</td>\n",
              "      <td>[64560.0, 2000.0, 1.0, 1.0, 40.8, 40.6, 1025.6...</td>\n",
              "      <td>[-4.929418155464096, 4.929418155464096]</td>\n",
              "      <td>1.0</td>\n",
              "      <td>[0.007178801381066684, 0.9928211986189334]</td>\n",
              "    </tr>\n",
              "    <tr>\n",
              "      <th>3</th>\n",
              "      <td>0</td>\n",
              "      <td>(71400.0, 2000.0, 1.0, 1.0, 46.2, 45.6, 1027.2...</td>\n",
              "      <td>[0.5935287119442654, -0.5935287119442654]</td>\n",
              "      <td>0.0</td>\n",
              "      <td>[0.6441743858404683, 0.35582561415953173]</td>\n",
              "    </tr>\n",
              "    <tr>\n",
              "      <th>4</th>\n",
              "      <td>1</td>\n",
              "      <td>(72070.0, 2000.0, 1.0, 1.0, 51.4, 0.0, 1027.8,...</td>\n",
              "      <td>[0.39315701537826797, -0.39315701537826797]</td>\n",
              "      <td>0.0</td>\n",
              "      <td>[0.5970424549071369, 0.4029575450928631]</td>\n",
              "    </tr>\n",
              "  </tbody>\n",
              "</table>\n",
              "</div>\n",
              "      <button class=\"colab-df-convert\" onclick=\"convertToInteractive('df-1cd0636c-a97e-4cd2-bd30-033a964aa9e8')\"\n",
              "              title=\"Convert this dataframe to an interactive table.\"\n",
              "              style=\"display:none;\">\n",
              "        \n",
              "  <svg xmlns=\"http://www.w3.org/2000/svg\" height=\"24px\"viewBox=\"0 0 24 24\"\n",
              "       width=\"24px\">\n",
              "    <path d=\"M0 0h24v24H0V0z\" fill=\"none\"/>\n",
              "    <path d=\"M18.56 5.44l.94 2.06.94-2.06 2.06-.94-2.06-.94-.94-2.06-.94 2.06-2.06.94zm-11 1L8.5 8.5l.94-2.06 2.06-.94-2.06-.94L8.5 2.5l-.94 2.06-2.06.94zm10 10l.94 2.06.94-2.06 2.06-.94-2.06-.94-.94-2.06-.94 2.06-2.06.94z\"/><path d=\"M17.41 7.96l-1.37-1.37c-.4-.4-.92-.59-1.43-.59-.52 0-1.04.2-1.43.59L10.3 9.45l-7.72 7.72c-.78.78-.78 2.05 0 2.83L4 21.41c.39.39.9.59 1.41.59.51 0 1.02-.2 1.41-.59l7.78-7.78 2.81-2.81c.8-.78.8-2.07 0-2.86zM5.41 20L4 18.59l7.72-7.72 1.47 1.35L5.41 20z\"/>\n",
              "  </svg>\n",
              "      </button>\n",
              "      \n",
              "  <style>\n",
              "    .colab-df-container {\n",
              "      display:flex;\n",
              "      flex-wrap:wrap;\n",
              "      gap: 12px;\n",
              "    }\n",
              "\n",
              "    .colab-df-convert {\n",
              "      background-color: #E8F0FE;\n",
              "      border: none;\n",
              "      border-radius: 50%;\n",
              "      cursor: pointer;\n",
              "      display: none;\n",
              "      fill: #1967D2;\n",
              "      height: 32px;\n",
              "      padding: 0 0 0 0;\n",
              "      width: 32px;\n",
              "    }\n",
              "\n",
              "    .colab-df-convert:hover {\n",
              "      background-color: #E2EBFA;\n",
              "      box-shadow: 0px 1px 2px rgba(60, 64, 67, 0.3), 0px 1px 3px 1px rgba(60, 64, 67, 0.15);\n",
              "      fill: #174EA6;\n",
              "    }\n",
              "\n",
              "    [theme=dark] .colab-df-convert {\n",
              "      background-color: #3B4455;\n",
              "      fill: #D2E3FC;\n",
              "    }\n",
              "\n",
              "    [theme=dark] .colab-df-convert:hover {\n",
              "      background-color: #434B5C;\n",
              "      box-shadow: 0px 1px 3px 1px rgba(0, 0, 0, 0.15);\n",
              "      filter: drop-shadow(0px 1px 2px rgba(0, 0, 0, 0.3));\n",
              "      fill: #FFFFFF;\n",
              "    }\n",
              "  </style>\n",
              "\n",
              "      <script>\n",
              "        const buttonEl =\n",
              "          document.querySelector('#df-1cd0636c-a97e-4cd2-bd30-033a964aa9e8 button.colab-df-convert');\n",
              "        buttonEl.style.display =\n",
              "          google.colab.kernel.accessAllowed ? 'block' : 'none';\n",
              "\n",
              "        async function convertToInteractive(key) {\n",
              "          const element = document.querySelector('#df-1cd0636c-a97e-4cd2-bd30-033a964aa9e8');\n",
              "          const dataTable =\n",
              "            await google.colab.kernel.invokeFunction('convertToInteractive',\n",
              "                                                     [key], {});\n",
              "          if (!dataTable) return;\n",
              "\n",
              "          const docLinkHtml = 'Like what you see? Visit the ' +\n",
              "            '<a target=\"_blank\" href=https://colab.research.google.com/notebooks/data_table.ipynb>data table notebook</a>'\n",
              "            + ' to learn more about interactive tables.';\n",
              "          element.innerHTML = '';\n",
              "          dataTable['output_type'] = 'display_data';\n",
              "          await google.colab.output.renderOutput(dataTable, element);\n",
              "          const docLink = document.createElement('div');\n",
              "          docLink.innerHTML = docLinkHtml;\n",
              "          element.appendChild(docLink);\n",
              "        }\n",
              "      </script>\n",
              "    </div>\n",
              "  </div>\n",
              "  "
            ]
          },
          "metadata": {},
          "execution_count": 13
        }
      ]
    },
    {
      "cell_type": "markdown",
      "source": [
        "# Model evaluation"
      ],
      "metadata": {
        "id": "vMfIzzkgU6-6"
      }
    },
    {
      "cell_type": "markdown",
      "source": [
        "Evaluate model using ROC"
      ],
      "metadata": {
        "id": "JoqSSbe7VBb_"
      }
    },
    {
      "cell_type": "code",
      "source": [
        "from pyspark.ml.evaluation import BinaryClassificationEvaluator\n",
        "eval = BinaryClassificationEvaluator()\n",
        "print(\"Area under ROC: \", eval.evaluate(predictions))"
      ],
      "metadata": {
        "colab": {
          "base_uri": "https://localhost:8080/"
        },
        "id": "WZJxOJaCVE_b",
        "outputId": "9a66d16e-b627-459c-9ce3-69322db65dfd"
      },
      "execution_count": 14,
      "outputs": [
        {
          "output_type": "stream",
          "name": "stdout",
          "text": [
            "Area under ROC:  0.7736072809230597\n"
          ]
        }
      ]
    },
    {
      "cell_type": "markdown",
      "source": [
        "Evaluate model accuracy"
      ],
      "metadata": {
        "id": "PWnp9nLMVIBC"
      }
    },
    {
      "cell_type": "code",
      "source": [
        "accuracy = predictions.filter(predictions.label == predictions.prediction).count() / float(predictions.count())\n",
        "print(\"Accuracy : \",accuracy)"
      ],
      "metadata": {
        "colab": {
          "base_uri": "https://localhost:8080/"
        },
        "id": "oMb37SVLVZny",
        "outputId": "31cb98cf-867c-4286-e753-3ff0058c93c0"
      },
      "execution_count": 15,
      "outputs": [
        {
          "output_type": "stream",
          "name": "stdout",
          "text": [
            "Accuracy :  0.726442134676856\n"
          ]
        }
      ]
    },
    {
      "cell_type": "markdown",
      "source": [
        "Confusion matrix"
      ],
      "metadata": {
        "id": "GQABuNyFVcCi"
      }
    },
    {
      "cell_type": "code",
      "source": [
        "class_names=[1.0,0.0]\n",
        "import itertools\n",
        "import numpy as np\n",
        "import matplotlib.pyplot as plt\n",
        "def plot_confusion_matrix(cm, classes,\n",
        "                          normalize=False,\n",
        "                          title='Confusion matrix',\n",
        "                          cmap=plt.cm.Blues):\n",
        "    \"\"\"\n",
        "    This function prints and plots the confusion matrix.\n",
        "    Normalization can be applied by setting `normalize=True`.\n",
        "    \"\"\"\n",
        "    if normalize:\n",
        "        cm = cm.astype('float') / cm.sum(axis=1)[:, np.newaxis]\n",
        "        print(\"Normalized confusion matrix\")\n",
        "    else:\n",
        "        print('Confusion matrix, without normalization')\n",
        "\n",
        "    print(cm)\n",
        "\n",
        "    plt.imshow(cm, interpolation='nearest', cmap=cmap)\n",
        "    plt.title(title)\n",
        "    plt.colorbar()\n",
        "    tick_marks = np.arange(len(classes))\n",
        "    plt.xticks(tick_marks, classes, rotation=45)\n",
        "    plt.yticks(tick_marks, classes)\n",
        "\n",
        "    fmt = '.2f' if normalize else 'd'\n",
        "    thresh = cm.max() / 2.\n",
        "    for i, j in itertools.product(range(cm.shape[0]), range(cm.shape[1])):\n",
        "        plt.text(j, i, format(cm[i, j], fmt),\n",
        "                 horizontalalignment=\"center\",\n",
        "                 color=\"white\" if cm[i, j] > thresh else \"black\")\n",
        "\n",
        "    plt.tight_layout()\n",
        "    plt.ylabel('True label')\n",
        "    plt.xlabel('Predicted label')"
      ],
      "metadata": {
        "id": "neDbhjuCVfY7"
      },
      "execution_count": 18,
      "outputs": []
    },
    {
      "cell_type": "code",
      "source": [
        "from sklearn.metrics import confusion_matrix\n",
        "y_true = predictions.select(\"label\")\n",
        "y_true = y_true.toPandas()\n",
        "\n",
        "y_pred = predictions.select(\"prediction\")\n",
        "y_pred = y_pred.toPandas()\n",
        "\n",
        "cnf_matrix = confusion_matrix(y_true, y_pred,labels=class_names)\n",
        "#cnf_matrix\n",
        "plt.figure()\n",
        "plot_confusion_matrix(cnf_matrix, classes=class_names, normalize=True,\n",
        "                      title='Confusion matrix')\n",
        "plt.show()"
      ],
      "metadata": {
        "colab": {
          "base_uri": "https://localhost:8080/",
          "height": 363
        },
        "id": "7AIInnPDVtEr",
        "outputId": "9893898a-045e-4d63-d61a-e061c2095646"
      },
      "execution_count": 20,
      "outputs": [
        {
          "output_type": "stream",
          "name": "stdout",
          "text": [
            "Normalized confusion matrix\n",
            "[[0.46482011 0.53517989]\n",
            " [0.0656363  0.9343637 ]]\n"
          ]
        },
        {
          "output_type": "display_data",
          "data": {
            "text/plain": [
              "<Figure size 432x288 with 2 Axes>"
            ],
            "image/png": "[encoded data removed]"
          },
          "metadata": {
            "needs_background": "light"
          }
        }
      ]
    }
  ]
}