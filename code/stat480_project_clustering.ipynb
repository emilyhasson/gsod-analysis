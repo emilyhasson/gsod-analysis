{
  "cells": [
    {
      "cell_type": "markdown",
      "metadata": {
        "id": "RVgNuIt8a_Av"
      },
      "source": [
        "---\n",
        "\n",
        "#### Initialization\n",
        "\n",
        "---"
      ]
    },
    {
      "cell_type": "code",
      "execution_count": null,
      "metadata": {
        "id": "_Zph0V1HkThR"
      },
      "outputs": [],
      "source": [
        "%%bash \n",
        "\n",
        "## Setup Spark on Colab\n",
        "pip install -q pyspark\n",
        "apt-get -qq install -y openjdk-8-jdk-headless\n",
        "\n",
        "## Setup port-forwarding\n",
        "\n",
        "# Download ngrok\n",
        "wget -q https://bin.equinox.io/c/4VmDzA7iaHb/ngrok-stable-linux-amd64.zip\n",
        "# Unload ngrok\n",
        "unzip -q ngrok-stable-linux-amd64.zip"
      ]
    },
    {
      "cell_type": "code",
      "execution_count": 2,
      "metadata": {
        "id": "X4GnhhWYkWsC"
      },
      "outputs": [],
      "source": [
        "import os\n",
        "os.environ[\"JAVA_HOME\"] = \"/usr/lib/jvm/java-8-openjdk-amd64\""
      ]
    },
    {
      "cell_type": "code",
      "execution_count": 1,
      "metadata": {
        "id": "CNLWlEdJYxt-"
      },
      "outputs": [],
      "source": [
        "import pyspark \n",
        "from pyspark.sql import *\n",
        "from pyspark.sql.functions import *\n",
        "from pyspark import SparkContext, SparkConf, SQLContext \n",
        "\n",
        "# Set configuration scope to be local and use port 4050\n",
        "config_scope = SparkConf().set(\"spark.ui.port\", \"4050\")\n",
        "\n",
        "# Create the connection to a Spark cluster\n",
        "sc = pyspark.SparkContext(conf = config_scope)\n",
        "\n",
        "# Create a session to programmatically build Spark RDD, DataFrame and DataSet\n",
        "spark = SparkSession.builder.getOrCreate()"
      ]
    },
    {
      "cell_type": "markdown",
      "metadata": {
        "id": "SmlE9jNXkoQ5"
      },
      "source": [
        "---\n",
        "\n",
        "### Gathering the Data\n",
        "\n",
        "---"
      ]
    },
    {
      "cell_type": "code",
      "execution_count": 2,
      "metadata": {
        "id": "XFERTYbRn-BQ"
      },
      "outputs": [],
      "source": [
        "# -- install if not previously installed in environment\n",
        "# !pip install matplotlib\n",
        "# !pip install mapclassify\n",
        "# !pip install geopandas\n",
        "# !pip install geoplot\n",
        "# !pip install pycountry\n",
        "\n",
        "# -- file operating package\n",
        "import os\n",
        "\n",
        "# -- preferred data management packages\n",
        "import pandas as pd\n",
        "import numpy as np\n",
        "\n",
        "# -- preferred plotting libraries\n",
        "import matplotlib.pyplot as plt\n",
        "import seaborn as sns\n",
        "import plotly.graph_objects as go\n",
        "\n",
        "# -- libraries for geographical plotting functionality\n",
        "import geopandas\n",
        "import geoplot\n",
        "import mapclassify\n",
        "import pycountry"
      ]
    },
    {
      "cell_type": "code",
      "execution_count": 3,
      "metadata": {
        "id": "3KL-swK8twON"
      },
      "outputs": [],
      "source": [
        "def read_spark(year):\n",
        "  '''\n",
        "  Reads in yearly data using defined options and\n",
        "  naming convention. Returns None if the year\n",
        "  does not exist in the looped directory.\n",
        "  '''\n",
        "  try:\n",
        "    return spark.read.option('inferschema', 'true'\n",
        "    ).option('header', 'true'\n",
        "    ).csv(f'./drive/MyDrive/STAT 480/Data/{year}weatherdata_updated.csv')\n",
        "  \n",
        "  except:\n",
        "    return None"
      ]
    },
    {
      "cell_type": "markdown",
      "metadata": {
        "id": "GnIoTX5RbERb"
      },
      "source": [
        "Grouping data by country to assist in plotting."
      ]
    },
    {
      "cell_type": "code",
      "execution_count": 4,
      "metadata": {
        "id": "sfZRgJAsuoja"
      },
      "outputs": [],
      "source": [
        "def raw_to_grouped(sparkdf_year):\n",
        "  '''\n",
        "  Returns spark DataFrame consisting of aggregate\n",
        "  data by country. See function for more details\n",
        "  on which aggregations are performed.\n",
        "  '''\n",
        "  return spark.createDataFrame(sparkdf_year.groupBy('country name').agg(\n",
        "    {'temp_ft':'avg',\n",
        "     'dewpt_ft':'avg',\n",
        "     'slp_mb':'avg',\n",
        "     'visib_mi':'avg',\n",
        "     'wind_knt':'avg',\n",
        "     'maxwind_knt':'avg',\n",
        "     'max_gust_knt':'avg',\n",
        "     'year':'max',\n",
        "     'month':'max',\n",
        "     'day':'max',\n",
        "     'fog':'avg',\n",
        "     'rain':'avg',\n",
        "     'snow':'avg',\n",
        "     'hail':'avg',\n",
        "     'thunder':'avg',\n",
        "     'tornado':'avg',\n",
        "     'precip_in':'avg',\n",
        "     'max_temp_frnht':'avg',\n",
        "     'min_temp_frnht':'avg',\n",
        "     'lat':'avg',\n",
        "     'lon':'avg',\n",
        "     'elev(m)':'avg'}).collect())\n",
        "  \n",
        "def get_a3(name):\n",
        "  '''\n",
        "  Return country's corresponding iso_a3 code. Performed\n",
        "  for simple merging later on.\n",
        "  '''\n",
        "  try:\n",
        "    return pycountry.countries.get(name=name).alpha_3\n",
        "  except:\n",
        "    return 'error'\n",
        "\n",
        "def convert_grouped_to_plotting(raw_df, world):\n",
        "  '''\n",
        "  Transform pyspark.pandas.DataFrame grouped by country name\n",
        "  into geopandas.GeoDataFrame for plotting purposes.\n",
        "  '''\n",
        "\n",
        "  if raw_df == None:\n",
        "    return None\n",
        "  \n",
        "  grouped_df = raw_to_grouped(raw_df)\n",
        "\n",
        "  grctry_df = grouped_df.select(\"*\").toPandas()\n",
        "  grctry_df.columns = ['country_name'] + list(map(lambda x: x[x.find('(') + 1 : x.find(')')], grouped_df.columns[1:]))\n",
        "  grctry_df['country_name'] = grctry_df['country_name'].str.title()\n",
        "  grctry_df['alpha3'] = grctry_df['country_name'].apply(lambda x: get_a3(x))\n",
        "\n",
        "  merged_df = pd.merge(\n",
        "      grctry_df,\n",
        "      world,\n",
        "      left_on='alpha3',\n",
        "      right_on='iso_a3'\n",
        "  )\n",
        "\n",
        "  num_stat_df = raw_df.groupBy(\"country name\").agg(countDistinct(\"station_num\")).select(\"*\").toPandas()\n",
        "  num_stat_df['country_name'] = num_stat_df['country name'].str.title()\n",
        "  num_stat_df.drop(columns='country name', inplace=True)\n",
        "\n",
        "  plotting_df = pd.merge(\n",
        "    geopandas.GeoDataFrame(merged_df),\n",
        "    num_stat_df,\n",
        "    on='country_name'\n",
        "  )\n",
        "  plotting_df.columns = list(plotting_df.columns[:-1]) + ['num_stations']\n",
        "\n",
        "  return plotting_df"
      ]
    },
    {
      "cell_type": "markdown",
      "source": [
        "Before getting into the actual analysis, let's define dataframes and dictionaries that we can use for convenient recollection later on:\n",
        "- `world` is a `geopandas.GeoDataFrame` containing geographical and plotting-specific information about various countries\n",
        "- `spark_dict` is a dictionary where the keys are years from 2000 to 2019 and the corresponding values are spark dataframes of data from that year's weather reporting stations\n",
        "- `plotting_dict` is a dictionary similar to `spark_dict`, except the values also contain plotting specific information of each weather reporting station"
      ],
      "metadata": {
        "id": "QSUhmdkpE_FR"
      }
    },
    {
      "cell_type": "code",
      "execution_count": 5,
      "metadata": {
        "id": "89c82tC0ginp"
      },
      "outputs": [],
      "source": [
        "# dataframe consisting of country geographical positional and geography shapes\n",
        "world = geopandas.read_file(geopandas.datasets.get_path('naturalearth_lowres'))\n",
        "\n",
        "# creating dictionaries for convenient data recollection in later functions\n",
        "spark_dict = {year : read_spark(year) for year in range(2000, 2020)}\n",
        "# plotting_dict = {year:convert_grouped_to_plotting(spark_dict[year], world) for year in range(2000, 2020)}"
      ]
    },
    {
      "cell_type": "markdown",
      "metadata": {
        "id": "PqOwTsc6wWNy"
      },
      "source": [
        "### Plotting"
      ]
    },
    {
      "cell_type": "code",
      "execution_count": null,
      "metadata": {
        "id": "24z-118082U8"
      },
      "outputs": [],
      "source": [
        "fig, ax = plt.subplots(1, 1)\n",
        "ax.set_axis_off()\n",
        "plotting_dict[2008].plot('temp_ft', ax=ax, legend=True, cmap='OrRd',\n",
        "                 figsize=(15, 10),\n",
        "                 missing_kwds={'color': 'grey'},\n",
        "                 legend_kwds={'label': \"Avg Daily Temperature (F)\",\n",
        "                        'orientation': \"horizontal\"})"
      ]
    },
    {
      "cell_type": "code",
      "execution_count": null,
      "metadata": {
        "id": "KcYAWyd6lsJl"
      },
      "outputs": [],
      "source": [
        "df_list = []\n",
        "for year in plotting_dict.keys():\n",
        "  if year != 2007:\n",
        "    df_list.append(plotting_dict[year].groupby(['continent', 'country_name']).agg({\n",
        "        'snow':'mean',\n",
        "        'dewpt_ft':'mean',\n",
        "        'visib_mi':'mean',\n",
        "        'precip_in':'mean',\n",
        "        'thunder':'count',\n",
        "        'fog':'count',\n",
        "        'min_temp_frnht':'mean',\n",
        "        'max_gust_knt':'mean',\n",
        "        'year':'mean',\n",
        "        'elev(m':'mean',\n",
        "        'rain':'count',\n",
        "        'tornado':'count',\n",
        "        'maxwind_knt':'mean',\n",
        "        'max_temp_frnht':'mean',\n",
        "        'lon':'mean',\n",
        "        'temp_ft':'mean',\n",
        "        'wind_knt':'mean',\n",
        "        'hail':'count',\n",
        "        'slp_mb':'mean',\n",
        "        'lat':'mean',\n",
        "        'pop_est':'mean',\n",
        "        'gdp_md_est':'mean',\n",
        "        'num_stations':'sum'\n",
        "    }).reset_index())\n",
        "\n",
        "by_year = pd.concat(df_list).reset_index(drop=True)"
      ]
    },
    {
      "cell_type": "code",
      "execution_count": null,
      "metadata": {
        "id": "PRVEmPeWosQI"
      },
      "outputs": [],
      "source": [
        "sns.set_style(\"whitegrid\")\n",
        "sns.lineplot(x='year', y='num_stations', data=by_year.groupby('year').agg('sum').reset_index(), color='black')\n",
        "sns.lineplot(x='year', y='num_stations', style='continent', hue='continent', markers=True, data=by_year.groupby(['continent', 'year']).agg('sum').reset_index(), palette='dark')\n",
        "\n",
        "plt.title('Number of Reporting Stations over Time', weight='bold')\n",
        "plt.xlabel('Year', weight='bold')\n",
        "plt.ylabel('# of Stations', weight='bold')\n",
        "plt.xticks(range(2000,2021,5))\n",
        "plt.text(2016,6500,\"Aggregate\", weight='semibold')\n",
        "plt.legend(bbox_to_anchor=(1,1))\n",
        "\n",
        "plt.savefig('num_stations_over_time.png', bbox_inches='tight')\n",
        "plt.show()"
      ]
    },
    {
      "cell_type": "code",
      "execution_count": null,
      "metadata": {
        "id": "qM27ch61AHZT"
      },
      "outputs": [],
      "source": [
        "fig, ax = plt.subplots(1, 1)\n",
        "ax.set_axis_off()\n",
        "plotting_df.plot('num_stations', ax=ax, legend=True, cmap='Greens',\n",
        "                 figsize=(15, 10),\n",
        "                 missing_kwds={'color': 'grey'},\n",
        "                 legend_kwds={'label': \"Number of Stations\",\n",
        "                        'orientation': \"horizontal\"})"
      ]
    },
    {
      "cell_type": "code",
      "execution_count": null,
      "metadata": {
        "id": "oFSfc5m3HnQw"
      },
      "outputs": [],
      "source": [
        "sns.barplot(y='country_name',x='num_stations',data=plotting_df.sort_values('num_stations', ascending=False).head(20),palette='PuBu_r')\n",
        "# sns.stripplot(y='continent',x='num_stations',data=plotting_df.sort_values('num_stations', ascending=False),palette='Greys')\n",
        "# sns.boxplot(y='continent',x='num_stations',data=plotting_df.sort_values('num_stations', ascending=False))"
      ]
    },
    {
      "cell_type": "markdown",
      "metadata": {
        "id": "qTzfc_wK8d0d"
      },
      "source": [
        "---\n",
        "\n",
        "### **Clustering**\n",
        "\n",
        "---"
      ]
    },
    {
      "cell_type": "markdown",
      "source": [
        "talk more here."
      ],
      "metadata": {
        "id": "AORgu4VkGG-U"
      }
    },
    {
      "cell_type": "code",
      "execution_count": 6,
      "metadata": {
        "id": "uUyQRkikNnuK"
      },
      "outputs": [],
      "source": [
        "cols = ['st', 'temp_ft', 'dewpt_ft', 'slp_mb',\n",
        "        'wind_knt', 'precip_in', 'max_temp_frnht',\n",
        "        'min_temp_frnht', 'elev(m)']\n",
        "\n",
        "df_list = []\n",
        "for year in spark_dict.keys():\n",
        "  '''\n",
        "  Returns spark DataFrame consisting of aggregate\n",
        "  data by country. See function for more details\n",
        "  on which aggregations are performed.\n",
        "  '''\n",
        "  if spark_dict[year] != None:\n",
        "    df_list.append(spark.createDataFrame(spark_dict[year].where('ctry == \"US\"').groupBy(['st', 'year']).agg(\n",
        "      {'temp_ft':'avg',\n",
        "      'dewpt_ft':'avg',\n",
        "      'slp_mb':'avg',\n",
        "      'wind_knt':'avg',\n",
        "      'precip_in':'avg',\n",
        "      'max_temp_frnht':'avg',\n",
        "      'min_temp_frnht':'avg',\n",
        "      'lat':'avg',\n",
        "      'lon':'avg',\n",
        "      'elev(m)':'avg'}).collect()).toPandas())\n",
        "    \n",
        "master_df = pd.concat(df_list).reset_index(drop=True)\n",
        "master_df.columns = list(map(lambda x: x[x.find('(') + 1 : x.rfind(')')], master_df.columns))\n",
        "master_df.rename(columns={'s':'state', 'yea':'year'}, inplace=True)"
      ]
    },
    {
      "cell_type": "markdown",
      "source": [
        "why do we scale?"
      ],
      "metadata": {
        "id": "B1KecZsMGJTm"
      }
    },
    {
      "cell_type": "code",
      "source": [
        "from sklearn.preprocessing import StandardScaler\n",
        "\n",
        "nums_df = master_df.drop(columns=['state', 'year', 'lon', 'lat'])\n",
        "\n",
        "cluster_df = pd.DataFrame(\n",
        "    StandardScaler().fit_transform(nums_df),\n",
        "    columns=nums_df.columns\n",
        "    )\n",
        "cluster_df['state'] = master_df['state']"
      ],
      "metadata": {
        "id": "3A1QeCcUe290"
      },
      "execution_count": 7,
      "outputs": []
    },
    {
      "cell_type": "code",
      "source": [
        "nums_df['state'] = master_df['state']\n",
        "nums_spdf = spark.createDataFrame(nums_df)\n",
        "cluster_spdf = spark.createDataFrame(cluster_df)"
      ],
      "metadata": {
        "id": "ZFSO7cnbgN7L"
      },
      "execution_count": 8,
      "outputs": []
    },
    {
      "cell_type": "markdown",
      "source": [
        "brief explanation here"
      ],
      "metadata": {
        "id": "FrWklRIUGLK_"
      }
    },
    {
      "cell_type": "code",
      "source": [
        "from pyspark.ml.clustering import KMeans\n",
        "from pyspark.ml.feature import VectorAssembler\n",
        "from pyspark.ml.tuning import ParamGridBuilder, CrossValidator\n",
        "from pyspark.ml.evaluation import ClusteringEvaluator\n",
        "from pyspark.ml import Pipeline\n",
        "\n",
        "\n",
        "numeric_cols = [\n",
        "  field for (field, dataType) in cluster_spdf.dtypes\n",
        "  if ((dataType == \"double\") & (field != \"state\"))\n",
        "]\n",
        "\n",
        "vec_assembler = VectorAssembler(\n",
        "  inputCols = numeric_cols,\n",
        "  outputCol = \"features\"\n",
        ")\n",
        "\n",
        "kmeans_model=KMeans(featuresCol='features')\n",
        "\n",
        "stages = [vec_assembler, kmeans_model]\n",
        "pipeline = Pipeline(stages=stages)\n",
        "\n",
        "train_df, test_df = cluster_spdf.randomSplit([.8, .2], seed=480)\n",
        "train_df = train_df.dropna()\n",
        "test_df = test_df.dropna()\n",
        "\n",
        "# Fit k-means model with all recipe steps\n",
        "pipeline_model = pipeline.fit(train_df)\n",
        "\n",
        "# Obtain predictions from test data set \n",
        "prediction_df = pipeline_model.transform(test_df)\n",
        "evaluator = ClusteringEvaluator()\n",
        "\n",
        "# Create ParamGrid for Cross Validation\n",
        "parameter_grid = ParamGridBuilder() \\\n",
        "  .addGrid(kmeans_model.k, [i for i in range(2,20)])\\\n",
        "  .addGrid(kmeans_model.seed, [480])\\\n",
        "  .addGrid(kmeans_model.maxIter, [1, 5, 10])\\\n",
        "  .build()\n",
        "\n",
        "# Create a Cross Validation class to perform the multiple\n",
        "# models required by the parameter gride\n",
        "cv = CrossValidator(\n",
        "  estimator = pipeline, \n",
        "  estimatorParamMaps = parameter_grid,\n",
        "  evaluator = evaluator, numFolds = 5)\n",
        "\n",
        "# Obtain the models\n",
        "cv_model = cv.fit(train_df)\n"
      ],
      "metadata": {
        "id": "OA6emR-zu8QT"
      },
      "execution_count": 209,
      "outputs": []
    },
    {
      "cell_type": "markdown",
      "source": [
        "sleect best params and plot"
      ],
      "metadata": {
        "id": "PUkymiI-GNRS"
      }
    },
    {
      "cell_type": "code",
      "source": [
        "params = [{p.name: v for p, v in m.items()} for m in cv_model.getEstimatorParamMaps()]\n",
        "silhouette_scores = pd.DataFrame.from_dict([\n",
        "    {cv_model.getEvaluator().getMetricName(): metric, **ps} \n",
        "    for ps, metric in zip(params, cv_model.avgMetrics)\n",
        "]).groupby('k').agg('mean')['silhouette']"
      ],
      "metadata": {
        "id": "_loTeZcT11TS"
      },
      "execution_count": 210,
      "outputs": []
    },
    {
      "cell_type": "code",
      "source": [
        "plt.plot(range(2,20), silhouette_scores, linewidth=2, marker='o')\n",
        "plt.title('Silhouette Score for k-Clusters', weight='bold')\n",
        "plt.xlabel('Number of Clusters', weight='semibold')\n",
        "plt.ylabel('Silhouette Score', weight='semibold')\n",
        "plt.show()"
      ],
      "metadata": {
        "id": "uc2dD--30ZXw",
        "colab": {
          "base_uri": "https://localhost:8080/",
          "height": 295
        },
        "outputId": "5cb6deee-5390-450e-f5c0-5a6cfa585149"
      },
      "execution_count": 219,
      "outputs": [
        {
          "output_type": "display_data",
          "data": {
            "text/plain": [
              "<Figure size 432x288 with 1 Axes>"
            ],
            "image/png": "[encoded data removed]"
          },
          "metadata": {
            "needs_background": "light"
          }
        }
      ]
    },
    {
      "cell_type": "markdown",
      "source": [
        "Looks like `k = 2` and `k = 4` clusters provide us with the highest silhouette scores. Although the difference between the two clustering performances are marginal, the difference in interpretability is much larger. With `k = 2` clusters, we are restricting the entire United States to two possible climates which does not seem fitting given the area the country covers. Therefore, we settle for `k = 4` clusters for the increase in interpretability of our results."
      ],
      "metadata": {
        "id": "QYpLEd-JAzZl"
      }
    },
    {
      "cell_type": "code",
      "source": [
        "# repeat process, this time with k=4 clusters\n",
        "kmeans_model=KMeans(featuresCol='features', k=4)\n",
        "\n",
        "stages = [vec_assembler, kmeans_model]\n",
        "pipeline = Pipeline(stages=stages)\n",
        "\n",
        "train_df, test_df = cluster_spdf.randomSplit([.8, .2], seed=480)\n",
        "train_df = train_df.dropna()\n",
        "test_df = test_df.dropna()\n",
        "\n",
        "pipeline_model = pipeline.fit(train_df)\n",
        "prediction_df = pipeline_model.transform(test_df)"
      ],
      "metadata": {
        "id": "OXL4Y1Q--y7H"
      },
      "execution_count": 220,
      "outputs": []
    },
    {
      "cell_type": "markdown",
      "source": [
        "Now let's start learning more about each of our clusters. We'll first start with learning how many observations are included in each cluster. Although not observed, some states appear in multiple clusters, so we will account for that later on by assiging each state its mode cluster, and in the case of tie breakers, we will randomly selecting a cluster."
      ],
      "metadata": {
        "id": "eNQGjXGr-56B"
      }
    },
    {
      "cell_type": "code",
      "source": [
        "prediction_df.toPandas()['prediction'].value_counts()"
      ],
      "metadata": {
        "colab": {
          "base_uri": "https://localhost:8080/"
        },
        "id": "TtPgquCV_QZc",
        "outputId": "cbcb55c7-ee01-4c4a-df6c-6bfc5508f2df"
      },
      "execution_count": 221,
      "outputs": [
        {
          "output_type": "execute_result",
          "data": {
            "text/plain": [
              "0    120\n",
              "1     34\n",
              "3     33\n",
              "2     22\n",
              "Name: prediction, dtype: int64"
            ]
          },
          "metadata": {},
          "execution_count": 221
        }
      ]
    },
    {
      "cell_type": "markdown",
      "source": [
        "Given the distribution of observations across each of the four clusters, let's look into what makes these clusters similar and different from one another. Below, we will perform mergers of our data to allow us to construct specific plots that display various distinctions between the clusters, including differences in standardized attribute levels and geographical location. Reasoning for these clusters will be drawn from intuition."
      ],
      "metadata": {
        "id": "tVe1VM36_Tgf"
      }
    },
    {
      "cell_type": "code",
      "source": [
        "merged_preds = pd.merge(\n",
        "    prediction_df.toPandas(),\n",
        "    cluster_df,\n",
        "    on=list(cluster_df.columns[:-1])\n",
        ").drop(columns=['features', 'state_y']).rename(columns={'state_x':'state'})"
      ],
      "metadata": {
        "id": "xZERF1vt6f7K"
      },
      "execution_count": 12,
      "outputs": []
    },
    {
      "cell_type": "code",
      "source": [
        "sns_df = pd.melt(id_vars=['state', 'prediction'], value_vars=['dewpt_ft', 'temp_ft', 'elev(m)', 'wind_knt', 'slp_mb'], frame=merged_preds)"
      ],
      "metadata": {
        "id": "HjKocL7N9EWr"
      },
      "execution_count": 13,
      "outputs": []
    },
    {
      "cell_type": "code",
      "source": [
        "g = sns.boxplot(x='variable', y='value', hue='prediction', palette='RdBu', data=sns_df)\n",
        "L=plt.legend(bbox_to_anchor=(1,1))\n",
        "L.get_texts()[0].set_text('Cluster 1')\n",
        "L.get_texts()[1].set_text('Cluster 2')\n",
        "L.get_texts()[2].set_text('Cluster 3')\n",
        "L.get_texts()[3].set_text('Cluster 4')\n",
        "plt.xlabel('Attribute', weight='semibold')\n",
        "plt.ylabel('Standard Deviations', weight='semibold')\n",
        "plt.title('Attribute Distributions per Predicted Cluster', weight='bold')\n",
        "g.set_xticklabels(['Dew Point (F)', 'Temp. (F)', 'Elevation (m)', 'Wind (k)', 'Sea Level (mb)'])\n",
        "# plt.savefig('cluster_distinctions.png', bbox_inches='tight')\n",
        "plt.show()"
      ],
      "metadata": {
        "colab": {
          "base_uri": "https://localhost:8080/",
          "height": 295
        },
        "id": "t4E3upkF9eyO",
        "outputId": "b95e4a38-d8eb-4b6d-94a9-08c8e26baa89"
      },
      "execution_count": 207,
      "outputs": [
        {
          "output_type": "display_data",
          "data": {
            "text/plain": [
              "<Figure size 432x288 with 1 Axes>"
            ],
            "image/png": "[encoded data removed]"
          },
          "metadata": {
            "needs_background": "light"
          }
        }
      ]
    },
    {
      "cell_type": "markdown",
      "source": [
        "First off, we notice some stark differences between our clusters in almost every attribute. Considering each of our attributes were standardized before being fit, these results are especially interesting since some clusters do not overlap at all for a given attribute. Most notably, we can define our clusters like such:\n",
        "\n",
        "| cluster | dew point | temperature | elevation | wind | sea level pressure |\n",
        "| :-: | :-: | :-: | :-: | :-: | :-: |\n",
        "| 1 | mid | mid | low | low | mid |\n",
        "| 2 | low | mid | high | mid | mid |\n",
        "| 3 | low | low | low | high | mid |\n",
        "| 4 | high | high | mid | mid | mid |\n",
        "\n",
        "Knowing that these attributes define the states of each cluster, we can further confirm these similarities and differences by mapping predicted clusters to the corresponding states on a map. Below, we perform a series of `.apply()` functions to gather specific georaphical information and `.merge()` operations to ensure our data is accurately grouped together."
      ],
      "metadata": {
        "id": "PdgzrtSNAHvz"
      }
    },
    {
      "cell_type": "markdown",
      "source": [
        "*Note: here we could invert our standardized data to study the original values of each cluster like the table below shows; however, we will not consider the inverted clustering beyond these next few cells.*"
      ],
      "metadata": {
        "id": "vDutrJWJD1Wo"
      }
    },
    {
      "cell_type": "code",
      "source": [
        "s = StandardScaler()\n",
        "s.fit_transform(nums_df.drop(columns='state'))\n",
        "inverted_cluster_df = pd.DataFrame(\n",
        "    s.inverse_transform(prediction_df.toPandas().drop(columns=['state', 'features', 'prediction'])),\n",
        "    columns=nums_df.columns[:-1])"
      ],
      "metadata": {
        "id": "L5jNJg-flvyO"
      },
      "execution_count": 223,
      "outputs": []
    },
    {
      "cell_type": "code",
      "source": [
        "inverted_cluster_df['prediction'] = prediction_df.toPandas()['prediction']\n",
        "inverted_cluster_df['state'] = prediction_df.toPandas()['state']"
      ],
      "metadata": {
        "id": "6qqsSLqXmQsi"
      },
      "execution_count": 224,
      "outputs": []
    },
    {
      "cell_type": "code",
      "source": [
        "inverted_cluster_df.groupby('prediction').agg('mean')"
      ],
      "metadata": {
        "colab": {
          "base_uri": "https://localhost:8080/",
          "height": 206
        },
        "id": "_ABHwBjjEBdW",
        "outputId": "49c712ba-cee4-4a06-bfa4-bad7785a5b49"
      },
      "execution_count": 225,
      "outputs": [
        {
          "output_type": "execute_result",
          "data": {
            "text/plain": [
              "             dewpt_ft  precip_in  min_temp_frnht      elev(m)  max_temp_frnht  \\\n",
              "prediction                                                                      \n",
              "0           39.146086   0.068094       39.540287   213.955021       57.746896   \n",
              "1           27.209896   0.033641       35.763969  1377.714562       55.673197   \n",
              "2           28.281592   0.039775       28.921350   465.113484       46.739037   \n",
              "3           55.844234   0.065836       54.258330   108.184344       69.077694   \n",
              "\n",
              "              temp_ft  wind_knt      slp_mb  \n",
              "prediction                                   \n",
              "0           48.380042  5.398747  906.570958  \n",
              "1           46.621267  6.106944  902.699229  \n",
              "2           37.330122  6.575357  900.111454  \n",
              "3           61.814498  5.930047  930.010509  "
            ],
            "text/html": [
              "\n",
              "  <div id=\"df-1c446901-cef3-4690-a02a-a6cf0fb499f6\">\n",
              "    <div class=\"colab-df-container\">\n",
              "      <div>\n",
              "<style scoped>\n",
              "    .dataframe tbody tr th:only-of-type {\n",
              "        vertical-align: middle;\n",
              "    }\n",
              "\n",
              "    .dataframe tbody tr th {\n",
              "        vertical-align: top;\n",
              "    }\n",
              "\n",
              "    .dataframe thead th {\n",
              "        text-align: right;\n",
              "    }\n",
              "</style>\n",
              "<table border=\"1\" class=\"dataframe\">\n",
              "  <thead>\n",
              "    <tr style=\"text-align: right;\">\n",
              "      <th></th>\n",
              "      <th>dewpt_ft</th>\n",
              "      <th>precip_in</th>\n",
              "      <th>min_temp_frnht</th>\n",
              "      <th>elev(m)</th>\n",
              "      <th>max_temp_frnht</th>\n",
              "      <th>temp_ft</th>\n",
              "      <th>wind_knt</th>\n",
              "      <th>slp_mb</th>\n",
              "    </tr>\n",
              "    <tr>\n",
              "      <th>prediction</th>\n",
              "      <th></th>\n",
              "      <th></th>\n",
              "      <th></th>\n",
              "      <th></th>\n",
              "      <th></th>\n",
              "      <th></th>\n",
              "      <th></th>\n",
              "      <th></th>\n",
              "    </tr>\n",
              "  </thead>\n",
              "  <tbody>\n",
              "    <tr>\n",
              "      <th>0</th>\n",
              "      <td>39.146086</td>\n",
              "      <td>0.068094</td>\n",
              "      <td>39.540287</td>\n",
              "      <td>213.955021</td>\n",
              "      <td>57.746896</td>\n",
              "      <td>48.380042</td>\n",
              "      <td>5.398747</td>\n",
              "      <td>906.570958</td>\n",
              "    </tr>\n",
              "    <tr>\n",
              "      <th>1</th>\n",
              "      <td>27.209896</td>\n",
              "      <td>0.033641</td>\n",
              "      <td>35.763969</td>\n",
              "      <td>1377.714562</td>\n",
              "      <td>55.673197</td>\n",
              "      <td>46.621267</td>\n",
              "      <td>6.106944</td>\n",
              "      <td>902.699229</td>\n",
              "    </tr>\n",
              "    <tr>\n",
              "      <th>2</th>\n",
              "      <td>28.281592</td>\n",
              "      <td>0.039775</td>\n",
              "      <td>28.921350</td>\n",
              "      <td>465.113484</td>\n",
              "      <td>46.739037</td>\n",
              "      <td>37.330122</td>\n",
              "      <td>6.575357</td>\n",
              "      <td>900.111454</td>\n",
              "    </tr>\n",
              "    <tr>\n",
              "      <th>3</th>\n",
              "      <td>55.844234</td>\n",
              "      <td>0.065836</td>\n",
              "      <td>54.258330</td>\n",
              "      <td>108.184344</td>\n",
              "      <td>69.077694</td>\n",
              "      <td>61.814498</td>\n",
              "      <td>5.930047</td>\n",
              "      <td>930.010509</td>\n",
              "    </tr>\n",
              "  </tbody>\n",
              "</table>\n",
              "</div>\n",
              "      <button class=\"colab-df-convert\" onclick=\"convertToInteractive('df-1c446901-cef3-4690-a02a-a6cf0fb499f6')\"\n",
              "              title=\"Convert this dataframe to an interactive table.\"\n",
              "              style=\"display:none;\">\n",
              "        \n",
              "  <svg xmlns=\"http://www.w3.org/2000/svg\" height=\"24px\"viewBox=\"0 0 24 24\"\n",
              "       width=\"24px\">\n",
              "    <path d=\"M0 0h24v24H0V0z\" fill=\"none\"/>\n",
              "    <path d=\"M18.56 5.44l.94 2.06.94-2.06 2.06-.94-2.06-.94-.94-2.06-.94 2.06-2.06.94zm-11 1L8.5 8.5l.94-2.06 2.06-.94-2.06-.94L8.5 2.5l-.94 2.06-2.06.94zm10 10l.94 2.06.94-2.06 2.06-.94-2.06-.94-.94-2.06-.94 2.06-2.06.94z\"/><path d=\"M17.41 7.96l-1.37-1.37c-.4-.4-.92-.59-1.43-.59-.52 0-1.04.2-1.43.59L10.3 9.45l-7.72 7.72c-.78.78-.78 2.05 0 2.83L4 21.41c.39.39.9.59 1.41.59.51 0 1.02-.2 1.41-.59l7.78-7.78 2.81-2.81c.8-.78.8-2.07 0-2.86zM5.41 20L4 18.59l7.72-7.72 1.47 1.35L5.41 20z\"/>\n",
              "  </svg>\n",
              "      </button>\n",
              "      \n",
              "  <style>\n",
              "    .colab-df-container {\n",
              "      display:flex;\n",
              "      flex-wrap:wrap;\n",
              "      gap: 12px;\n",
              "    }\n",
              "\n",
              "    .colab-df-convert {\n",
              "      background-color: #E8F0FE;\n",
              "      border: none;\n",
              "      border-radius: 50%;\n",
              "      cursor: pointer;\n",
              "      display: none;\n",
              "      fill: #1967D2;\n",
              "      height: 32px;\n",
              "      padding: 0 0 0 0;\n",
              "      width: 32px;\n",
              "    }\n",
              "\n",
              "    .colab-df-convert:hover {\n",
              "      background-color: #E2EBFA;\n",
              "      box-shadow: 0px 1px 2px rgba(60, 64, 67, 0.3), 0px 1px 3px 1px rgba(60, 64, 67, 0.15);\n",
              "      fill: #174EA6;\n",
              "    }\n",
              "\n",
              "    [theme=dark] .colab-df-convert {\n",
              "      background-color: #3B4455;\n",
              "      fill: #D2E3FC;\n",
              "    }\n",
              "\n",
              "    [theme=dark] .colab-df-convert:hover {\n",
              "      background-color: #434B5C;\n",
              "      box-shadow: 0px 1px 3px 1px rgba(0, 0, 0, 0.15);\n",
              "      filter: drop-shadow(0px 1px 2px rgba(0, 0, 0, 0.3));\n",
              "      fill: #FFFFFF;\n",
              "    }\n",
              "  </style>\n",
              "\n",
              "      <script>\n",
              "        const buttonEl =\n",
              "          document.querySelector('#df-1c446901-cef3-4690-a02a-a6cf0fb499f6 button.colab-df-convert');\n",
              "        buttonEl.style.display =\n",
              "          google.colab.kernel.accessAllowed ? 'block' : 'none';\n",
              "\n",
              "        async function convertToInteractive(key) {\n",
              "          const element = document.querySelector('#df-1c446901-cef3-4690-a02a-a6cf0fb499f6');\n",
              "          const dataTable =\n",
              "            await google.colab.kernel.invokeFunction('convertToInteractive',\n",
              "                                                     [key], {});\n",
              "          if (!dataTable) return;\n",
              "\n",
              "          const docLinkHtml = 'Like what you see? Visit the ' +\n",
              "            '<a target=\"_blank\" href=https://colab.research.google.com/notebooks/data_table.ipynb>data table notebook</a>'\n",
              "            + ' to learn more about interactive tables.';\n",
              "          element.innerHTML = '';\n",
              "          dataTable['output_type'] = 'display_data';\n",
              "          await google.colab.output.renderOutput(dataTable, element);\n",
              "          const docLink = document.createElement('div');\n",
              "          docLink.innerHTML = docLinkHtml;\n",
              "          element.appendChild(docLink);\n",
              "        }\n",
              "      </script>\n",
              "    </div>\n",
              "  </div>\n",
              "  "
            ]
          },
          "metadata": {},
          "execution_count": 225
        }
      ]
    },
    {
      "cell_type": "markdown",
      "source": [
        "Here we perform a few applications that gather various pieces of information that are not provided in our previous dataframes. These new dataframes require separate libraries, so ensure that they are downloaded before proceeding."
      ],
      "metadata": {
        "id": "tBJIdiCKEtpS"
      }
    },
    {
      "cell_type": "code",
      "source": [
        "def get_state_name(state_abbr):\n",
        "  us_divs = sorted(list(pycountry.subdivisions.lookup('US')), key=lambda x: x.name)\n",
        "  for i, div in enumerate(us_divs):\n",
        "    if state_abbr == div.code[div.code.find('-') + 1:]:\n",
        "      return div.name\n",
        "  return 'MISTAKE'"
      ],
      "metadata": {
        "id": "HptwrlO3tnAv"
      },
      "execution_count": 226,
      "outputs": []
    },
    {
      "cell_type": "code",
      "source": [
        "inverted_cluster_df['state_name'] = inverted_cluster_df['state'].apply(get_state_name)\n",
        "contiguous_usa = gpd.read_file(gplt.datasets.get_path('contiguous_usa'))"
      ],
      "metadata": {
        "id": "fmEqH0kju-oy"
      },
      "execution_count": 227,
      "outputs": []
    },
    {
      "cell_type": "code",
      "source": [
        "def get_state_geometry(state_name):\n",
        "  return contiguous_usa[contiguous_usa['state'] == state_name]['geometry'].reset_index(drop=True)"
      ],
      "metadata": {
        "id": "_0B5cUGK2wo3"
      },
      "execution_count": 228,
      "outputs": []
    },
    {
      "cell_type": "code",
      "source": [
        "mode_cluster_df = inverted_cluster_df.groupby(['state_name'], as_index=False).agg(pd.Series.mode).rename(columns={'prediction':'pred_mode'})\n",
        "mode_cluster_df['geometry'] = mode_cluster_df['state_name'].apply(get_state_geometry)\n",
        "mode_cluster_df.loc[3, 'pred_mode'] = 3     # Arkansas: [0,3]\n",
        "mode_cluster_df.loc[9, 'pred_mode'] = 3     # Georgia: [0,3]"
      ],
      "metadata": {
        "id": "asDpvOas0fYl"
      },
      "execution_count": 229,
      "outputs": []
    },
    {
      "cell_type": "markdown",
      "source": [
        "Now that we have our data prepared, we plot our results to see which clusters contain which states."
      ],
      "metadata": {
        "id": "Q-4PYEYnDgYv"
      }
    },
    {
      "cell_type": "code",
      "source": [
        "cmaps = ['Accent', 'Accent_r', 'Blues', 'Blues_r', 'BrBG', 'BrBG_r', 'BuGn', 'BuGn_r', 'BuPu', 'BuPu_r', 'CMRmap', 'CMRmap_r', 'Dark2', 'Dark2_r', 'GnBu', 'GnBu_r', 'Greens', 'Greens_r', 'OrRd', 'OrRd_r', 'Oranges', 'Oranges_r', 'PRGn', 'PRGn_r', 'Paired', 'Paired_r', 'Pastel1', 'Pastel1_r', 'Pastel2', 'Pastel2_r', 'PiYG', 'PiYG_r', 'PuBu', 'PuBuGn', 'PuBuGn_r', 'PuBu_r', 'PuOr', 'PuOr_r', 'PuRd', 'PuRd_r', 'Purples', 'Purples_r', 'RdBu', 'RdBu_r', 'RdGy', 'RdGy_r', 'RdPu', 'RdPu_r', 'RdYlBu', 'RdYlBu_r', 'RdYlGn', 'RdYlGn_r', 'Reds', 'Reds_r', 'Set1', 'Set1_r', 'Set2', 'Set2_r', 'Set3', 'Set3_r', 'Spectral', 'Spectral_r', 'Wistia', 'Wistia_r', 'YlGn', 'YlGnBu', 'YlGnBu_r', 'YlGn_r', 'YlOrBr', 'YlOrBr_r', 'YlOrRd', 'YlOrRd_r', 'afmhot', 'afmhot_r', 'autumn', 'autumn_r', 'binary', 'binary_r', 'bone', 'bone_r', 'brg', 'brg_r', 'bwr', 'bwr_r', 'cividis', 'cividis_r', 'cool', 'cool_r', 'coolwarm', 'coolwarm_r', 'copper', 'copper_r', 'crest', 'crest_r', 'cubehelix', 'cubehelix_r', 'flag', 'flag_r', 'flare', 'flare_r', 'gist_earth', 'gist_earth_r'] "
      ],
      "metadata": {
        "id": "ZHPJTVPDE5ZZ"
      },
      "execution_count": null,
      "outputs": []
    },
    {
      "cell_type": "code",
      "source": [
        "import pandas as pd\n",
        "import geopandas as gpd\n",
        "import geoplot as gplt\n",
        "import geoplot.crs as gcrs\n",
        "import matplotlib.pyplot as plt\n",
        "import mapclassify as mc\n",
        "\n",
        "\n",
        "choro_df = mode_cluster_df[~mode_cluster_df['state_name'].isin(['Virgin Islands, U.S.', 'Puerto Rico', 'Alaska', 'Hawaii'])]\n",
        "gplt.choropleth(geopandas.GeoDataFrame(choro_df), hue='pred_mode', cmap='RdBu')\n",
        "\n",
        "# for cmap in cmaps:\n",
        "#   print(f'> {cmap}')\n",
        "#   gplt.choropleth(geopandas.GeoDataFrame(choro_df), hue='pred_mode', cmap=cmap)\n",
        "#   plt.show()\n",
        "#   break\n",
        "\n",
        "plt.show()"
      ],
      "metadata": {
        "colab": {
          "base_uri": "https://localhost:8080/",
          "height": 237
        },
        "id": "zDjmmqXyoFuM",
        "outputId": "3b118cb5-1c35-4f5f-8e25-5f907c21df1b"
      },
      "execution_count": 230,
      "outputs": [
        {
          "output_type": "execute_result",
          "data": {
            "text/plain": [
              "<matplotlib.axes._subplots.AxesSubplot at 0x7f80a8410050>"
            ]
          },
          "metadata": {},
          "execution_count": 230
        },
        {
          "output_type": "display_data",
          "data": {
            "text/plain": [
              "<Figure size 576x432 with 1 Axes>"
            ],
            "image/png": "[encoded data removed]"
          },
          "metadata": {
            "needs_background": "light"
          }
        }
      ]
    }
  ],
  "metadata": {
    "colab": {
      "collapsed_sections": [],
      "name": "stat480_project_clustering.ipynb",
      "provenance": []
    },
    "kernelspec": {
      "display_name": "Python 3",
      "name": "python3"
    },
    "language_info": {
      "name": "python"
    }
  },
  "nbformat": 4,
  "nbformat_minor": 0
}