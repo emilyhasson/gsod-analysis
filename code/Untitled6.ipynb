{
 "cells": [
  {
   "cell_type": "code",
   "execution_count": 1,
   "id": "7c961ac9",
   "metadata": {},
   "outputs": [],
   "source": [
    "import os"
   ]
  },
  {
   "cell_type": "code",
   "execution_count": 2,
   "id": "c8526f04",
   "metadata": {},
   "outputs": [
    {
     "data": {
      "text/plain": [
       "['Papers',\n",
       " 'Data',\n",
       " 'Submissions',\n",
       " 'weather_data.csv',\n",
       " 'testing.ipynb',\n",
       " 'usdf.csv',\n",
       " 'weather_data_dirty.csv',\n",
       " 'weather_data_clean.csv',\n",
       " 'Zip Files']"
      ]
     },
     "execution_count": 2,
     "metadata": {},
     "output_type": "execute_result"
    }
   ],
   "source": [
    "os.listdir('/Users/samerens/serens2@illinois.edu - Google Drive/My Drive/STAT 480/')"
   ]
  },
  {
   "cell_type": "code",
   "execution_count": 4,
   "id": "49606bd6",
   "metadata": {},
   "outputs": [],
   "source": [
    "with open('/Users/samerens/serens2@illinois.edu - Google Drive/My Drive/STAT 480/1 GB of 9s.txt', mode = 'w') as file:\n",
    "    file.write('9' * int(200e12))"
   ]
  },
  {
   "cell_type": "code",
   "execution_count": null,
   "id": "db1b0a64",
   "metadata": {},
   "outputs": [],
   "source": []
  }
 ],
 "metadata": {
  "kernelspec": {
   "display_name": "Python 3 (ipykernel)",
   "language": "python",
   "name": "python3"
  },
  "language_info": {
   "codemirror_mode": {
    "name": "ipython",
    "version": 3
   },
   "file_extension": ".py",
   "mimetype": "text/x-python",
   "name": "python",
   "nbconvert_exporter": "python",
   "pygments_lexer": "ipython3",
   "version": "3.10.4"
  }
 },
 "nbformat": 4,
 "nbformat_minor": 5
}
