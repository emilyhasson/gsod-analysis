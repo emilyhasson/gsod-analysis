{
  "cells": [
    {
      "cell_type": "markdown",
      "metadata": {
        "id": "X4-JzMQvXS-e"
      },
      "source": [
        "## K-Means Clustering on United States Weather Data\n",
        "\n",
        "Author: Lucas Nelson"
      ]
    },
    {
      "cell_type": "markdown",
      "metadata": {
        "id": "RVgNuIt8a_Av"
      },
      "source": [
        "---\n",
        "\n",
        "#### Initialization\n",
        "\n",
        "---"
      ]
    },
    {
      "cell_type": "markdown",
      "metadata": {
        "id": "IubBUULlXVe8"
      },
      "source": [
        "Here we setup our Spark environment in Google Colab following procedures similar to those followed in class."
      ]
    },
    {
      "cell_type": "code",
      "execution_count": null,
      "metadata": {
        "id": "_Zph0V1HkThR"
      },
      "outputs": [],
      "source": [
        "%%bash \n",
        "\n",
        "## Setup Spark on Colab\n",
        "pip install -q pyspark\n",
        "apt-get -qq install -y openjdk-8-jdk-headless\n",
        "\n",
        "## Setup port-forwarding\n",
        "\n",
        "# Download ngrok\n",
        "wget -q https://bin.equinox.io/c/4VmDzA7iaHb/ngrok-stable-linux-amd64.zip\n",
        "# Unload ngrok\n",
        "unzip -q ngrok-stable-linux-amd64.zip"
      ]
    },
    {
      "cell_type": "code",
      "execution_count": null,
      "metadata": {
        "id": "X4GnhhWYkWsC"
      },
      "outputs": [],
      "source": [
        "import os\n",
        "os.environ[\"JAVA_HOME\"] = \"/usr/lib/jvm/java-8-openjdk-amd64\""
      ]
    },
    {
      "cell_type": "code",
      "execution_count": null,
      "metadata": {
        "id": "CNLWlEdJYxt-"
      },
      "outputs": [],
      "source": [
        "import pyspark \n",
        "from pyspark.sql import *\n",
        "from pyspark.sql.functions import *\n",
        "from pyspark import SparkContext, SparkConf, SQLContext \n",
        "\n",
        "# Set configuration scope to be local and use port 4050\n",
        "config_scope = SparkConf().set(\"spark.ui.port\", \"4050\")\n",
        "\n",
        "# Create the connection to a Spark cluster\n",
        "sc = pyspark.SparkContext(conf = config_scope)\n",
        "\n",
        "# Create a session to programmatically build Spark RDD, DataFrame and DataSet\n",
        "spark = SparkSession.builder.getOrCreate()"
      ]
    },
    {
      "cell_type": "markdown",
      "metadata": {
        "id": "nLh08oVwOJAu"
      },
      "source": [
        "Do not forget to mount to drive to access files in `STAT 480` folder."
      ]
    },
    {
      "cell_type": "code",
      "execution_count": 13,
      "metadata": {
        "colab": {
          "base_uri": "https://localhost:8080/"
        },
        "id": "gCkN5bdGONu3",
        "outputId": "32636a8a-baf2-44d6-ad01-0d566295a988"
      },
      "outputs": [
        {
          "name": "stdout",
          "output_type": "stream",
          "text": [
            "Mounted at /content/drive\n"
          ]
        }
      ],
      "source": [
        "from google.colab import drive\n",
        "drive.mount('/content/drive')"
      ]
    },
    {
      "cell_type": "markdown",
      "metadata": {
        "id": "SmlE9jNXkoQ5"
      },
      "source": [
        "---\n",
        "\n",
        "### Gathering the Data\n",
        "\n",
        "---"
      ]
    },
    {
      "cell_type": "markdown",
      "metadata": {
        "id": "U16ljpwNXbuT"
      },
      "source": [
        "Here we import install and import packages that will assist us in working with our file environment, gathering and manipulating our dataframes, as well as extracting related geographical and plotting-specific information that will be used later on."
      ]
    },
    {
      "cell_type": "code",
      "execution_count": null,
      "metadata": {
        "id": "XFERTYbRn-BQ"
      },
      "outputs": [],
      "source": [
        "# -- install if not previously installed in environment\n",
        "# !pip install matplotlib\n",
        "# !pip install mapclassify\n",
        "# !pip install geopandas\n",
        "# !pip install geoplot\n",
        "# !pip install pycountry\n",
        "\n",
        "# -- file operating package\n",
        "import os\n",
        "\n",
        "# -- preferred data management packages\n",
        "import pandas as pd\n",
        "import numpy as np\n",
        "\n",
        "# -- preferred plotting libraries\n",
        "import matplotlib.pyplot as plt\n",
        "import seaborn as sns\n",
        "import plotly.graph_objects as go\n",
        "\n",
        "# -- libraries for geographical plotting functionality\n",
        "import geopandas\n",
        "import geoplot\n",
        "import mapclassify\n",
        "import pycountry"
      ]
    },
    {
      "cell_type": "code",
      "execution_count": null,
      "metadata": {
        "id": "3KL-swK8twON"
      },
      "outputs": [],
      "source": [
        "def read_spark(year):\n",
        "  '''\n",
        "  Reads in yearly data using defined options and\n",
        "  naming convention. Returns None if the year\n",
        "  does not exist in the looped directory.\n",
        "  '''\n",
        "  try:\n",
        "    return spark.read.option('inferschema', 'true'\n",
        "    ).option('header', 'true'\n",
        "    ).csv(f'./drive/MyDrive/STAT 480/Data/{year}weatherdata_updated.csv')\n",
        "  \n",
        "  except:\n",
        "    return None\n",
        "\n",
        "def raw_to_grouped(sparkdf_year):\n",
        "  '''\n",
        "  Returns spark DataFrame consisting of aggregate\n",
        "  data by country. See function for more details\n",
        "  on which aggregations are performed.\n",
        "  '''\n",
        "  return spark.createDataFrame(sparkdf_year.groupBy('country name').agg(\n",
        "    {'temp_ft':'avg',\n",
        "     'dewpt_ft':'avg',\n",
        "     'slp_mb':'avg',\n",
        "     'visib_mi':'avg',\n",
        "     'wind_knt':'avg',\n",
        "     'maxwind_knt':'avg',\n",
        "     'max_gust_knt':'avg',\n",
        "     'year':'max',\n",
        "     'month':'max',\n",
        "     'day':'max',\n",
        "     'fog':'avg',\n",
        "     'rain':'avg',\n",
        "     'snow':'avg',\n",
        "     'hail':'avg',\n",
        "     'thunder':'avg',\n",
        "     'tornado':'avg',\n",
        "     'precip_in':'avg',\n",
        "     'max_temp_frnht':'avg',\n",
        "     'min_temp_frnht':'avg',\n",
        "     'lat':'avg',\n",
        "     'lon':'avg',\n",
        "     'elev(m)':'avg'}).collect())\n",
        "  \n",
        "\n",
        "def get_a3(name):\n",
        "  '''\n",
        "  Return country's corresponding iso_a3 code. Performed\n",
        "  for simple merging later on.\n",
        "  '''\n",
        "  try:\n",
        "    return pycountry.countries.get(name=name).alpha_3\n",
        "  except:\n",
        "    return 'error'\n",
        "\n",
        "\n",
        "def convert_grouped_to_plotting(raw_df, world):\n",
        "  '''\n",
        "  Transform pyspark.pandas.DataFrame grouped by country name\n",
        "  into geopandas.GeoDataFrame for plotting purposes.\n",
        "  '''\n",
        "\n",
        "  if raw_df == None:\n",
        "    return None\n",
        "  \n",
        "  grouped_df = raw_to_grouped(raw_df)\n",
        "\n",
        "  grctry_df = grouped_df.select(\"*\").toPandas()\n",
        "  grctry_df.columns = ['country_name'] + list(map(lambda x: x[x.find('(') + 1 : x.find(')')], grouped_df.columns[1:]))\n",
        "  grctry_df['country_name'] = grctry_df['country_name'].str.title()\n",
        "  grctry_df['alpha3'] = grctry_df['country_name'].apply(lambda x: get_a3(x))\n",
        "\n",
        "  merged_df = pd.merge(\n",
        "      grctry_df,\n",
        "      world,\n",
        "      left_on='alpha3',\n",
        "      right_on='iso_a3'\n",
        "  )\n",
        "\n",
        "  num_stat_df = raw_df.groupBy(\"country name\").agg(countDistinct(\"station_num\")).select(\"*\").toPandas()\n",
        "  num_stat_df['country_name'] = num_stat_df['country name'].str.title()\n",
        "  num_stat_df.drop(columns='country name', inplace=True)\n",
        "\n",
        "  plotting_df = pd.merge(\n",
        "    geopandas.GeoDataFrame(merged_df),\n",
        "    num_stat_df,\n",
        "    on='country_name'\n",
        "  )\n",
        "  plotting_df.columns = list(plotting_df.columns[:-1]) + ['num_stations']\n",
        "\n",
        "  return plotting_df"
      ]
    },
    {
      "cell_type": "markdown",
      "metadata": {
        "id": "QSUhmdkpE_FR"
      },
      "source": [
        "Before getting into the actual analysis, let's define dataframes and dictionaries that we can use for convenient recollection later on:\n",
        "- `world` is a `geopandas.GeoDataFrame` containing geographical and plotting-specific information about various countries\n",
        "- `spark_dict` is a dictionary where the keys are years from 2000 to 2019 and the corresponding values are spark dataframes of data from that year's weather reporting stations\n",
        "- `plotting_dict` is a dictionary similar to `spark_dict`, except the values also contain plotting specific information of each weather reporting station"
      ]
    },
    {
      "cell_type": "code",
      "execution_count": null,
      "metadata": {
        "id": "89c82tC0ginp"
      },
      "outputs": [],
      "source": [
        "# dataframe consisting of country geographical positional and geography shapes\n",
        "world = geopandas.read_file(geopandas.datasets.get_path('naturalearth_lowres'))\n",
        "\n",
        "# creating dictionaries for convenient data recollection in later functions\n",
        "spark_dict = {year : read_spark(year) for year in range(2000, 2020)}\n",
        "plotting_dict = {year:convert_grouped_to_plotting(spark_dict[year], world) for year in range(2000, 2020)}"
      ]
    },
    {
      "cell_type": "markdown",
      "metadata": {
        "id": "PqOwTsc6wWNy"
      },
      "source": [
        "### Plotting"
      ]
    },
    {
      "cell_type": "code",
      "execution_count": null,
      "metadata": {
        "colab": {
          "base_uri": "https://localhost:8080/",
          "height": 476
        },
        "id": "24z-118082U8",
        "outputId": "cd98d74c-3922-48b8-e959-994db92cf939"
      },
      "outputs": [
        {
          "ename": "NameError",
          "evalue": "ignored",
          "output_type": "error",
          "traceback": [
            "\u001b[0;31m---------------------------------------------------------------------------\u001b[0m",
            "\u001b[0;31mNameError\u001b[0m                                 Traceback (most recent call last)",
            "\u001b[0;32m<ipython-input-9-22ffe2c9c6b8>\u001b[0m in \u001b[0;36m<module>\u001b[0;34m()\u001b[0m\n\u001b[1;32m      1\u001b[0m \u001b[0mfig\u001b[0m\u001b[0;34m,\u001b[0m \u001b[0max\u001b[0m \u001b[0;34m=\u001b[0m \u001b[0mplt\u001b[0m\u001b[0;34m.\u001b[0m\u001b[0msubplots\u001b[0m\u001b[0;34m(\u001b[0m\u001b[0;36m1\u001b[0m\u001b[0;34m,\u001b[0m \u001b[0;36m1\u001b[0m\u001b[0;34m)\u001b[0m\u001b[0;34m\u001b[0m\u001b[0;34m\u001b[0m\u001b[0m\n\u001b[1;32m      2\u001b[0m \u001b[0max\u001b[0m\u001b[0;34m.\u001b[0m\u001b[0mset_axis_off\u001b[0m\u001b[0;34m(\u001b[0m\u001b[0;34m)\u001b[0m\u001b[0;34m\u001b[0m\u001b[0;34m\u001b[0m\u001b[0m\n\u001b[0;32m----> 3\u001b[0;31m plotting_dict[2008].plot('temp_ft', ax=ax, legend=True, cmap='OrRd',\n\u001b[0m\u001b[1;32m      4\u001b[0m                  \u001b[0mfigsize\u001b[0m\u001b[0;34m=\u001b[0m\u001b[0;34m(\u001b[0m\u001b[0;36m15\u001b[0m\u001b[0;34m,\u001b[0m \u001b[0;36m10\u001b[0m\u001b[0;34m)\u001b[0m\u001b[0;34m,\u001b[0m\u001b[0;34m\u001b[0m\u001b[0;34m\u001b[0m\u001b[0m\n\u001b[1;32m      5\u001b[0m                  \u001b[0mmissing_kwds\u001b[0m\u001b[0;34m=\u001b[0m\u001b[0;34m{\u001b[0m\u001b[0;34m'color'\u001b[0m\u001b[0;34m:\u001b[0m \u001b[0;34m'grey'\u001b[0m\u001b[0;34m}\u001b[0m\u001b[0;34m,\u001b[0m\u001b[0;34m\u001b[0m\u001b[0;34m\u001b[0m\u001b[0m\n",
            "\u001b[0;31mNameError\u001b[0m: name 'plotting_dict' is not defined"
          ]
        },
        {
          "data": {
            "image/png": "[encoded data removed]",
            "text/plain": [
              "<Figure size 432x288 with 1 Axes>"
            ]
          },
          "metadata": {
            "needs_background": "light"
          },
          "output_type": "display_data"
        }
      ],
      "source": [
        "fig, ax = plt.subplots(1, 1)\n",
        "ax.set_axis_off()\n",
        "plotting_dict[2008].plot('temp_ft', ax=ax, legend=True, cmap='OrRd',\n",
        "                 figsize=(15, 10),\n",
        "                 missing_kwds={'color': 'grey'},\n",
        "                 legend_kwds={'label': \"Avg Daily Temperature (F)\",\n",
        "                        'orientation': \"horizontal\"})"
      ]
    },
    {
      "cell_type": "code",
      "execution_count": null,
      "metadata": {
        "id": "KcYAWyd6lsJl"
      },
      "outputs": [],
      "source": [
        "df_list = []\n",
        "for year in plotting_dict.keys():\n",
        "  if year != 2007:\n",
        "    df_list.append(plotting_dict[year].groupby(['continent', 'country_name']).agg({\n",
        "        'snow':'mean',\n",
        "        'dewpt_ft':'mean',\n",
        "        'visib_mi':'mean',\n",
        "        'precip_in':'mean',\n",
        "        'thunder':'count',\n",
        "        'fog':'count',\n",
        "        'min_temp_frnht':'mean',\n",
        "        'max_gust_knt':'mean',\n",
        "        'year':'mean',\n",
        "        'elev(m':'mean',\n",
        "        'rain':'count',\n",
        "        'tornado':'count',\n",
        "        'maxwind_knt':'mean',\n",
        "        'max_temp_frnht':'mean',\n",
        "        'lon':'mean',\n",
        "        'temp_ft':'mean',\n",
        "        'wind_knt':'mean',\n",
        "        'hail':'count',\n",
        "        'slp_mb':'mean',\n",
        "        'lat':'mean',\n",
        "        'pop_est':'mean',\n",
        "        'gdp_md_est':'mean',\n",
        "        'num_stations':'sum'\n",
        "    }).reset_index())\n",
        "\n",
        "by_year = pd.concat(df_list).reset_index(drop=True)"
      ]
    },
    {
      "cell_type": "code",
      "execution_count": null,
      "metadata": {
        "id": "PRVEmPeWosQI"
      },
      "outputs": [],
      "source": [
        "sns.set_style(\"whitegrid\")\n",
        "sns.lineplot(x='year', y='num_stations', data=by_year.groupby('year').agg('sum').reset_index(), color='black')\n",
        "sns.lineplot(x='year', y='num_stations', style='continent', hue='continent', markers=True, data=by_year.groupby(['continent', 'year']).agg('sum').reset_index(), palette='dark')\n",
        "\n",
        "plt.title('Number of Reporting Stations over Time', weight='bold')\n",
        "plt.xlabel('Year', weight='bold')\n",
        "plt.ylabel('# of Stations', weight='bold')\n",
        "plt.xticks(range(2000,2021,5))\n",
        "plt.text(2016,6500,\"Aggregate\", weight='semibold')\n",
        "plt.legend(bbox_to_anchor=(1,1))\n",
        "\n",
        "plt.savefig('num_stations_over_time.png', bbox_inches='tight')\n",
        "plt.show()"
      ]
    },
    {
      "cell_type": "markdown",
      "metadata": {
        "id": "qTzfc_wK8d0d"
      },
      "source": [
        "---\n",
        "\n",
        "### **Clustering**\n",
        "\n",
        "---"
      ]
    },
    {
      "cell_type": "markdown",
      "metadata": {
        "id": "AORgu4VkGG-U"
      },
      "source": [
        "For this model, we will be utilizing the k-means clustering algorithm. K-means attempts to determine an underlying clustering structure for a provided dataset $X_{m \\times n}$, containing $m$ observations comprised of $n$ numerical attributes. Here, to optimize performance, we aggregate on each state and take the corresponding aggregate function of specific attributes below. The results are stored into `master_df` which will be used heavily below."
      ]
    },
    {
      "cell_type": "code",
      "execution_count": null,
      "metadata": {
        "id": "uUyQRkikNnuK"
      },
      "outputs": [],
      "source": [
        "cols = ['st', 'temp_ft', 'dewpt_ft', 'slp_mb',\n",
        "        'wind_knt', 'precip_in', 'max_temp_frnht',\n",
        "        'min_temp_frnht', 'elev(m)']\n",
        "\n",
        "df_list = []\n",
        "for year in spark_dict.keys():\n",
        "  '''\n",
        "  Returns spark DataFrame consisting of aggregate\n",
        "  data by country. See function for more details\n",
        "  on which aggregations are performed.\n",
        "  '''\n",
        "  if spark_dict[year] != None:\n",
        "    df_list.append(spark.createDataFrame(spark_dict[year].where('ctry == \"US\"').groupBy(['st', 'year']).agg(\n",
        "      {'temp_ft':'avg',\n",
        "      'dewpt_ft':'avg',\n",
        "      'slp_mb':'avg',\n",
        "      'wind_knt':'avg',\n",
        "      'precip_in':'avg',\n",
        "      'max_temp_frnht':'avg',\n",
        "      'min_temp_frnht':'avg',\n",
        "      'lat':'avg',\n",
        "      'lon':'avg',\n",
        "      'elev(m)':'avg'}).collect()).toPandas())\n",
        "    \n",
        "master_df = pd.concat(df_list).reset_index(drop=True)\n",
        "master_df.columns = list(map(lambda x: x[x.find('(') + 1 : x.rfind(')')], master_df.columns))\n",
        "master_df.rename(columns={'s':'state', 'yea':'year'}, inplace=True)"
      ]
    },
    {
      "cell_type": "markdown",
      "metadata": {
        "id": "B1KecZsMGJTm"
      },
      "source": [
        "Since k-means uses the distances between points to define similarity (i.e., derive a clustering structure), we do not want some attributes of higher deviations impacting the clustering structure in their favor. In other words, since `elevation` has a higher standard deviation than the rest of the attributes, training our k-means model without scaling would show a clustering structure largely determined by differences in `elevation` between states.\n",
        "\n",
        "Since we want `pyspark` to consider each attribute evenly, we scaled our dataset and attach the `state` labels to it afterwards. This will be fed into our model in the following cell blocks."
      ]
    },
    {
      "cell_type": "code",
      "execution_count": null,
      "metadata": {
        "id": "3A1QeCcUe290"
      },
      "outputs": [],
      "source": [
        "from sklearn.preprocessing import StandardScaler\n",
        "\n",
        "nums_df = master_df.drop(columns=['state', 'year', 'lon', 'lat'])\n",
        "\n",
        "cluster_df = pd.DataFrame(\n",
        "    StandardScaler().fit_transform(nums_df),\n",
        "    columns=nums_df.columns\n",
        "    )\n",
        "cluster_df['state'] = master_df['state']"
      ]
    },
    {
      "cell_type": "code",
      "execution_count": null,
      "metadata": {
        "id": "ZFSO7cnbgN7L"
      },
      "outputs": [],
      "source": [
        "nums_df['state'] = master_df['state']\n",
        "nums_spdf = spark.createDataFrame(nums_df)\n",
        "cluster_spdf = spark.createDataFrame(cluster_df)"
      ]
    },
    {
      "cell_type": "markdown",
      "metadata": {
        "id": "FrWklRIUGLK_"
      },
      "source": [
        "Getting into the core of this analysis, we will be making use of `pyspark` to construct a k-means clustering model to determine the underlying clustering structure of the various climates in the United States. The method we follow to aggregate the data is detailed above, and further explanations are provided below.\n",
        "\n",
        "After morphing the data according to `pyspark` specifications, we continue on with assessing our model below, both visually and computationally."
      ]
    },
    {
      "cell_type": "code",
      "execution_count": null,
      "metadata": {
        "id": "OA6emR-zu8QT"
      },
      "outputs": [],
      "source": [
        "from pyspark.ml.clustering import KMeans\n",
        "from pyspark.ml.feature import VectorAssembler\n",
        "from pyspark.ml.tuning import ParamGridBuilder, CrossValidator\n",
        "from pyspark.ml.evaluation import ClusteringEvaluator\n",
        "from pyspark.ml import Pipeline\n",
        "\n",
        "\n",
        "numeric_cols = [\n",
        "  field for (field, dataType) in cluster_spdf.dtypes\n",
        "  if ((dataType == \"double\") & (field != \"state\"))\n",
        "]\n",
        "\n",
        "vec_assembler = VectorAssembler(\n",
        "  inputCols = numeric_cols,\n",
        "  outputCol = \"features\"\n",
        ")\n",
        "\n",
        "kmeans_model=KMeans(featuresCol='features')\n",
        "\n",
        "stages = [vec_assembler, kmeans_model]\n",
        "pipeline = Pipeline(stages=stages)\n",
        "\n",
        "train_df, test_df = cluster_spdf.randomSplit([.8, .2], seed=480)\n",
        "train_df = train_df.dropna()\n",
        "test_df = test_df.dropna()\n",
        "\n",
        "# Fit k-means model with all recipe steps\n",
        "pipeline_model = pipeline.fit(train_df)\n",
        "\n",
        "# Obtain predictions from test data set \n",
        "prediction_df = pipeline_model.transform(test_df)\n",
        "evaluator = ClusteringEvaluator()\n",
        "\n",
        "# Create ParamGrid for Cross Validation\n",
        "parameter_grid = ParamGridBuilder() \\\n",
        "  .addGrid(kmeans_model.k, [i for i in range(2,20)])\\\n",
        "  .addGrid(kmeans_model.seed, [480])\\\n",
        "  .addGrid(kmeans_model.maxIter, [1, 5, 10])\\\n",
        "  .build()\n",
        "\n",
        "# Create a Cross Validation class to perform the multiple\n",
        "# models required by the parameter gride\n",
        "cv = CrossValidator(\n",
        "  estimator = pipeline, \n",
        "  estimatorParamMaps = parameter_grid,\n",
        "  evaluator = evaluator, numFolds = 5)\n",
        "\n",
        "# Obtain the models\n",
        "cv_model = cv.fit(train_df)\n"
      ]
    },
    {
      "cell_type": "markdown",
      "metadata": {
        "id": "PUkymiI-GNRS"
      },
      "source": [
        "After cross validating our model given the parameter grid values, we can map out how each iteration did. Here, we collect the performance per combination of parameter grid entries and plot the silhouette scores to observe which model performed better than the rest.\n"
      ]
    },
    {
      "cell_type": "code",
      "execution_count": null,
      "metadata": {
        "id": "_loTeZcT11TS"
      },
      "outputs": [],
      "source": [
        "params = [{p.name: v for p, v in m.items()} for m in cv_model.getEstimatorParamMaps()]\n",
        "silhouette_scores = pd.DataFrame.from_dict([\n",
        "    {cv_model.getEvaluator().getMetricName(): metric, **ps} \n",
        "    for ps, metric in zip(params, cv_model.avgMetrics)\n",
        "]).groupby('k').agg('mean')['silhouette']"
      ]
    },
    {
      "cell_type": "code",
      "execution_count": null,
      "metadata": {
        "id": "uc2dD--30ZXw"
      },
      "outputs": [],
      "source": [
        "plt.plot(range(2,20), silhouette_scores, linewidth=2, marker='o')\n",
        "plt.title('Silhouette Score for k-Clusters', weight='bold')\n",
        "plt.xlabel('Number of Clusters', weight='semibold')\n",
        "plt.ylabel('Silhouette Score', weight='semibold')\n",
        "plt.show()"
      ]
    },
    {
      "cell_type": "markdown",
      "metadata": {
        "id": "QYpLEd-JAzZl"
      },
      "source": [
        "Looks like `k = 2` and `k = 4` clusters provide us with the highest silhouette scores. Although the difference between the two clustering performances are marginal, the difference in interpretability is much larger. With `k = 2` clusters, we are restricting the entire United States to two possible climates which does not seem fitting given the area the country covers. Therefore, we settle for `k = 4` clusters for the increase in interpretability of our results."
      ]
    },
    {
      "cell_type": "code",
      "execution_count": null,
      "metadata": {
        "id": "OXL4Y1Q--y7H"
      },
      "outputs": [],
      "source": [
        "# repeat process, this time with k=4 clusters\n",
        "kmeans_model=KMeans(featuresCol='features', k=4)\n",
        "\n",
        "stages = [vec_assembler, kmeans_model]\n",
        "pipeline = Pipeline(stages=stages)\n",
        "\n",
        "train_df, test_df = cluster_spdf.randomSplit([.8, .2], seed=480)\n",
        "train_df = train_df.dropna()\n",
        "test_df = test_df.dropna()\n",
        "\n",
        "pipeline_model = pipeline.fit(train_df)\n",
        "prediction_df = pipeline_model.transform(test_df)"
      ]
    },
    {
      "cell_type": "markdown",
      "metadata": {
        "id": "eNQGjXGr-56B"
      },
      "source": [
        "Now let's start learning more about each of our clusters. We'll first start with learning how many observations are included in each cluster. Although not observed, some states appear in multiple clusters, so we will account for that later on by assiging each state its mode cluster, and in the case of tie breakers, we will randomly selecting a cluster."
      ]
    },
    {
      "cell_type": "code",
      "execution_count": null,
      "metadata": {
        "id": "TtPgquCV_QZc"
      },
      "outputs": [],
      "source": [
        "prediction_df.toPandas()['prediction'].value_counts()"
      ]
    },
    {
      "cell_type": "markdown",
      "metadata": {
        "id": "tVe1VM36_Tgf"
      },
      "source": [
        "Given the distribution of observations across each of the four clusters, let's look into what makes these clusters similar and different from one another. Below, we will perform mergers of our data to allow us to construct specific plots that display various distinctions between the clusters, including differences in standardized attribute levels and geographical location. Reasoning for these clusters will be drawn from intuition."
      ]
    },
    {
      "cell_type": "code",
      "execution_count": null,
      "metadata": {
        "id": "xZERF1vt6f7K"
      },
      "outputs": [],
      "source": [
        "merged_preds = pd.merge(\n",
        "    prediction_df.toPandas(),\n",
        "    cluster_df,\n",
        "    on=list(cluster_df.columns[:-1])\n",
        ").drop(columns=['features', 'state_y']).rename(columns={'state_x':'state'})"
      ]
    },
    {
      "cell_type": "code",
      "execution_count": null,
      "metadata": {
        "id": "HjKocL7N9EWr"
      },
      "outputs": [],
      "source": [
        "sns_df = pd.melt(id_vars=['state', 'prediction'], value_vars=['dewpt_ft', 'temp_ft', 'elev(m)', 'wind_knt', 'slp_mb'], frame=merged_preds)"
      ]
    },
    {
      "cell_type": "code",
      "execution_count": 4,
      "metadata": {
        "id": "t4E3upkF9eyO"
      },
      "outputs": [
        {
          "data": {
            "image/jpeg": "[encoded data removed]",
            "text/plain": [
              "<IPython.core.display.Image object>"
            ]
          },
          "execution_count": 4,
          "metadata": {},
          "output_type": "execute_result"
        }
      ],
      "source": [
        "g = sns.boxplot(x='variable', y='value', hue='prediction', palette='RdBu', data=sns_df)\n",
        "L=plt.legend(bbox_to_anchor=(1,1))\n",
        "L.get_texts()[0].set_text('Cluster 1')\n",
        "L.get_texts()[1].set_text('Cluster 2')\n",
        "L.get_texts()[2].set_text('Cluster 3')\n",
        "L.get_texts()[3].set_text('Cluster 4')\n",
        "plt.xlabel('Attribute', weight='semibold')\n",
        "plt.ylabel('Standard Deviations', weight='semibold')\n",
        "plt.title('Attribute Distributions per Predicted Cluster', weight='bold')\n",
        "g.set_xticklabels(['Dew Point (F)', 'Temp. (F)', 'Elevation (m)', 'Wind (k)', 'Sea Level (mb)'])\n",
        "# plt.savefig('cluster_distinctions.png', bbox_inches='tight')\n",
        "plt.show()"
      ]
    },
    {
      "cell_type": "markdown",
      "metadata": {
        "id": "PdgzrtSNAHvz"
      },
      "source": [
        "First off, we notice some stark differences between our clusters in almost every attribute. Considering each of our attributes were standardized before being fit, these results are especially interesting since some clusters do not overlap at all for a given attribute. Most notably, we can define our clusters like such:\n",
        "\n",
        "| cluster | dew point | temperature | elevation | wind | sea level pressure |\n",
        "| :-: | :-: | :-: | :-: | :-: | :-: |\n",
        "| 1 | mid | mid | low | low | mid |\n",
        "| 2 | low | mid | high | mid | mid |\n",
        "| 3 | low | low | low | high | mid |\n",
        "| 4 | high | high | mid | mid | mid |\n",
        "\n",
        "Knowing that these attributes define the states of each cluster, we can further confirm these similarities and differences by mapping predicted clusters to the corresponding states on a map. Below, we perform a series of `.apply()` functions to gather specific georaphical information and `.merge()` operations to ensure our data is accurately grouped together."
      ]
    },
    {
      "cell_type": "markdown",
      "metadata": {
        "id": "vDutrJWJD1Wo"
      },
      "source": [
        "*Note: here we could invert our standardized data to study the original values of each cluster like the table below shows; however, we will not consider the inverted clustering beyond these next few cells.*"
      ]
    },
    {
      "cell_type": "code",
      "execution_count": null,
      "metadata": {
        "id": "L5jNJg-flvyO"
      },
      "outputs": [],
      "source": [
        "s = StandardScaler()\n",
        "s.fit_transform(nums_df.drop(columns='state'))\n",
        "inverted_cluster_df = pd.DataFrame(\n",
        "    s.inverse_transform(prediction_df.toPandas().drop(columns=['state', 'features', 'prediction'])),\n",
        "    columns=nums_df.columns[:-1])"
      ]
    },
    {
      "cell_type": "code",
      "execution_count": null,
      "metadata": {
        "id": "6qqsSLqXmQsi"
      },
      "outputs": [],
      "source": [
        "inverted_cluster_df['prediction'] = prediction_df.toPandas()['prediction']\n",
        "inverted_cluster_df['state'] = prediction_df.toPandas()['state']"
      ]
    },
    {
      "cell_type": "code",
      "execution_count": null,
      "metadata": {
        "id": "_ABHwBjjEBdW"
      },
      "outputs": [],
      "source": [
        "inverted_cluster_df.groupby('prediction').agg('mean')"
      ]
    },
    {
      "cell_type": "markdown",
      "metadata": {
        "id": "tBJIdiCKEtpS"
      },
      "source": [
        "Here we perform a few applications that gather various pieces of information that are not provided in our previous dataframes. These new dataframes require separate libraries, so ensure that they are downloaded before proceeding."
      ]
    },
    {
      "cell_type": "code",
      "execution_count": null,
      "metadata": {
        "id": "HptwrlO3tnAv"
      },
      "outputs": [],
      "source": [
        "def get_state_name(state_abbr):\n",
        "  us_divs = sorted(list(pycountry.subdivisions.lookup('US')), key=lambda x: x.name)\n",
        "  for i, div in enumerate(us_divs):\n",
        "    if state_abbr == div.code[div.code.find('-') + 1:]:\n",
        "      return div.name\n",
        "  return 'MISTAKE'"
      ]
    },
    {
      "cell_type": "code",
      "execution_count": null,
      "metadata": {
        "id": "fmEqH0kju-oy"
      },
      "outputs": [],
      "source": [
        "inverted_cluster_df['state_name'] = inverted_cluster_df['state'].apply(get_state_name)\n",
        "contiguous_usa = gpd.read_file(gplt.datasets.get_path('contiguous_usa'))"
      ]
    },
    {
      "cell_type": "code",
      "execution_count": null,
      "metadata": {
        "id": "_0B5cUGK2wo3"
      },
      "outputs": [],
      "source": [
        "def get_state_geometry(state_name):\n",
        "  return contiguous_usa[contiguous_usa['state'] == state_name]['geometry'].reset_index(drop=True)"
      ]
    },
    {
      "cell_type": "code",
      "execution_count": null,
      "metadata": {
        "id": "asDpvOas0fYl"
      },
      "outputs": [],
      "source": [
        "mode_cluster_df = inverted_cluster_df.groupby(['state_name'], as_index=False).agg(pd.Series.mode).rename(columns={'prediction':'pred_mode'})\n",
        "mode_cluster_df['geometry'] = mode_cluster_df['state_name'].apply(get_state_geometry)\n",
        "mode_cluster_df.loc[3, 'pred_mode'] = 3     # Arkansas: [0,3]\n",
        "mode_cluster_df.loc[9, 'pred_mode'] = 3     # Georgia: [0,3]"
      ]
    },
    {
      "cell_type": "markdown",
      "metadata": {
        "id": "Q-4PYEYnDgYv"
      },
      "source": [
        "Now that we have our data prepared, we plot our results to see which clusters contain which states."
      ]
    },
    {
      "cell_type": "code",
      "execution_count": null,
      "metadata": {
        "id": "ZHPJTVPDE5ZZ"
      },
      "outputs": [],
      "source": [
        "cmaps = ['Accent', 'Accent_r', 'Blues', 'Blues_r', 'BrBG', 'BrBG_r', 'BuGn', 'BuGn_r', 'BuPu', 'BuPu_r', 'CMRmap', 'CMRmap_r', 'Dark2', 'Dark2_r', 'GnBu', 'GnBu_r', 'Greens', 'Greens_r', 'OrRd', 'OrRd_r', 'Oranges', 'Oranges_r', 'PRGn', 'PRGn_r', 'Paired', 'Paired_r', 'Pastel1', 'Pastel1_r', 'Pastel2', 'Pastel2_r', 'PiYG', 'PiYG_r', 'PuBu', 'PuBuGn', 'PuBuGn_r', 'PuBu_r', 'PuOr', 'PuOr_r', 'PuRd', 'PuRd_r', 'Purples', 'Purples_r', 'RdBu', 'RdBu_r', 'RdGy', 'RdGy_r', 'RdPu', 'RdPu_r', 'RdYlBu', 'RdYlBu_r', 'RdYlGn', 'RdYlGn_r', 'Reds', 'Reds_r', 'Set1', 'Set1_r', 'Set2', 'Set2_r', 'Set3', 'Set3_r', 'Spectral', 'Spectral_r', 'Wistia', 'Wistia_r', 'YlGn', 'YlGnBu', 'YlGnBu_r', 'YlGn_r', 'YlOrBr', 'YlOrBr_r', 'YlOrRd', 'YlOrRd_r', 'afmhot', 'afmhot_r', 'autumn', 'autumn_r', 'binary', 'binary_r', 'bone', 'bone_r', 'brg', 'brg_r', 'bwr', 'bwr_r', 'cividis', 'cividis_r', 'cool', 'cool_r', 'coolwarm', 'coolwarm_r', 'copper', 'copper_r', 'crest', 'crest_r', 'cubehelix', 'cubehelix_r', 'flag', 'flag_r', 'flare', 'flare_r', 'gist_earth', 'gist_earth_r'] "
      ]
    },
    {
      "cell_type": "code",
      "execution_count": 3,
      "metadata": {
        "id": "zDjmmqXyoFuM"
      },
      "outputs": [
        {
          "data": {
            "image/jpeg": "[encoded data removed]",
            "text/plain": [
              "<IPython.core.display.Image object>"
            ]
          },
          "execution_count": 3,
          "metadata": {},
          "output_type": "execute_result"
        }
      ],
      "source": [
        "import pandas as pd\n",
        "import geopandas as gpd\n",
        "import geoplot as gplt\n",
        "import geoplot.crs as gcrs\n",
        "import matplotlib.pyplot as plt\n",
        "import mapclassify as mc\n",
        "\n",
        "\n",
        "choro_df = mode_cluster_df[~mode_cluster_df['state_name'].isin(['Virgin Islands, U.S.', 'Puerto Rico', 'Alaska', 'Hawaii'])]\n",
        "gplt.choropleth(geopandas.GeoDataFrame(choro_df), hue='pred_mode', cmap='RdBu')\n",
        "\n",
        "# for cmap in cmaps:\n",
        "#   print(f'> {cmap}')\n",
        "#   gplt.choropleth(geopandas.GeoDataFrame(choro_df), hue='pred_mode', cmap=cmap)\n",
        "#   plt.show()\n",
        "#   break\n",
        "\n",
        "plt.show()"
      ]
    }
  ],
  "metadata": {
    "colab": {
      "collapsed_sections": [],
      "name": "stat480_project_clustering (1).ipynb",
      "provenance": []
    },
    "interpreter": {
      "hash": "1b51f8d25deed5bc6e36ed276154e4f544ef07f3564bb000bbe55172bfec9e7b"
    },
    "kernelspec": {
      "display_name": "Python 3.8.8 ('base')",
      "language": "python",
      "name": "python3"
    },
    "language_info": {
      "codemirror_mode": {
        "name": "ipython",
        "version": 3
      },
      "file_extension": ".py",
      "mimetype": "text/x-python",
      "name": "python",
      "nbconvert_exporter": "python",
      "pygments_lexer": "ipython3",
      "version": "3.8.8"
    }
  },
  "nbformat": 4,
  "nbformat_minor": 0
}
