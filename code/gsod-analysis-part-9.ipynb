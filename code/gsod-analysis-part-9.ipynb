{
 "cells": [
  {
   "cell_type": "markdown",
   "id": "8ebacefd",
   "metadata": {},
   "source": [
    "# Copyright 2022 University of Illinois Urbana-Champaign. All rights reserved."
   ]
  },
  {
   "cell_type": "code",
   "execution_count": 4,
   "id": "b77c3f9f",
   "metadata": {},
   "outputs": [],
   "source": [
    "import pandas as pd\n",
    "import warnings\n",
    "\n",
    "warnings.filterwarnings(action = 'ignore')\n",
    "output_df = pd.DataFrame()\n",
    "\n",
    "for year in range(2000, 2020):\n",
    "    \n",
    "    try:\n",
    "        input_df = pd.read_csv(str(year) + 'weatherdata_updated.csv')\n",
    "        output_df = output_df.append(input_df)\n",
    "    except:\n",
    "        continue\n",
    "        \n",
    "output_df.to_csv('weather_data_full.csv', index = False)"
   ]
  }
 ],
 "metadata": {
  "kernelspec": {
   "display_name": "Python 3 (ipykernel)",
   "language": "python",
   "name": "python3"
  },
  "language_info": {
   "codemirror_mode": {
    "name": "ipython",
    "version": 3
   },
   "file_extension": ".py",
   "mimetype": "text/x-python",
   "name": "python",
   "nbconvert_exporter": "python",
   "pygments_lexer": "ipython3",
   "version": "3.10.4"
  }
 },
 "nbformat": 4,
 "nbformat_minor": 5
}
